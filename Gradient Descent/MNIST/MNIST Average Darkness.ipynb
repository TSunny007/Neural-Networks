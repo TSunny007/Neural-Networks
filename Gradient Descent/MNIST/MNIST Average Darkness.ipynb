{
 "cells": [
  {
   "cell_type": "markdown",
   "metadata": {},
   "source": [
    "A naive classifier for recognizing handwritten digits from the MNISR data set. The program classifies digits based on how dark they are -- the idea is that digits like `1` tend to be less dark than digits like `8`, simply becasue the latter has a more complex shape. When shown an image the classifier returns whichever digits in the training data has the closest average darkness.\n",
    "\n",
    "First trains the classifier, and then it applies the classifier to the MNIST test data to see how many digits are correctly classified."
   ]
  },
  {
   "cell_type": "code",
   "execution_count": 2,
   "metadata": {},
   "outputs": [],
   "source": [
    "from collections import defaultdict\n",
    "import mnist_loader"
   ]
  },
  {
   "cell_type": "code",
   "execution_count": 21,
   "metadata": {},
   "outputs": [],
   "source": [
    "def main():\n",
    "    training_data, validation_data, test_data = mnist_loader.load_data()\n",
    "    # training phase: compute average darkness for each digit,\n",
    "    # based on the training data\n",
    "    avgs = avg_darkness(training_data)\n",
    "    num_correct = sum(int(guess_digit(image, avgs) == digit)\n",
    "                         for image, digit in zip(test_data[0], test_data[1]))\n",
    "    print(\"Baseline classifier using average darkness of image.\")\n",
    "    print(\"{} of {} values correct.\".format(num_correct, len(test_data[1])))"
   ]
  },
  {
   "cell_type": "code",
   "execution_count": 22,
   "metadata": {},
   "outputs": [],
   "source": [
    "def avg_darkness(training_data):\n",
    "    digits_counts = defaultdict(int)\n",
    "    darkness = defaultdict(float)\n",
    "    for image, digit in zip(training_data[0], training_data[1]):\n",
    "        digits_counts[digit] += 1\n",
    "        darkness[digit] += sum(image)\n",
    "    avgs = defaultdict(float)\n",
    "    for digit, n in digits_counts.items():\n",
    "        avgs[digit] = darkness[digit]/n\n",
    "    return avgs"
   ]
  },
  {
   "cell_type": "code",
   "execution_count": 25,
   "metadata": {},
   "outputs": [],
   "source": [
    "def guess_digit(image, avgs):\n",
    "    \"\"\"Return the digit whose average darkness in the training data is\n",
    "    closest to the darkness of ``image``.  Note that ``avgs`` is\n",
    "    assumed to be a defaultdict whose keys are 0...9, and whose values\n",
    "    are the corresponding average darknesses across the training data.\"\"\"\n",
    "    darkness = sum(image)\n",
    "    distances = {k: abs(v-darkness) for k, v in avgs.items()}\n",
    "    return min(distances, key=distances.get)"
   ]
  },
  {
   "cell_type": "code",
   "execution_count": 26,
   "metadata": {},
   "outputs": [
    {
     "name": "stdout",
     "output_type": "stream",
     "text": [
      "Baseline classifier using average darkness of image.\n",
      "2225 of 10000 values correct.\n"
     ]
    }
   ],
   "source": [
    "if __name__ == \"__main__\":\n",
    "    main()"
   ]
  }
 ],
 "metadata": {
  "kernelspec": {
   "display_name": "Python 3",
   "language": "python",
   "name": "python3"
  },
  "language_info": {
   "codemirror_mode": {
    "name": "ipython",
    "version": 3
   },
   "file_extension": ".py",
   "mimetype": "text/x-python",
   "name": "python",
   "nbconvert_exporter": "python",
   "pygments_lexer": "ipython3",
   "version": "3.6.4"
  }
 },
 "nbformat": 4,
 "nbformat_minor": 2
}
