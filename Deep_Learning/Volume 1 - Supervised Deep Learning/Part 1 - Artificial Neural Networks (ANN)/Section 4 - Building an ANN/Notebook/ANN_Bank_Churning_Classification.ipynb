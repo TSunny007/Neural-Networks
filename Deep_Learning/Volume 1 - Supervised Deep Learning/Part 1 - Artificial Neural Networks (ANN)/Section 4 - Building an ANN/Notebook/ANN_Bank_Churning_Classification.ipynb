{
  "cells": [
    {
      "metadata": {
        "_uuid": "8f2839f25d086af736a60e9eeb907d3b93b6e0e5",
        "_cell_guid": "b1076dfc-b9ad-4769-8c92-a6c4dae69d19",
        "trusted": true
      },
      "cell_type": "code",
      "source": "import theano\nimport tensorflow\nimport numpy as np\nimport matplotlib.pyplot as plt\nimport pandas as pd\n\nimport os\nprint(os.listdir(\"../input\"))",
      "execution_count": 11,
      "outputs": [
        {
          "output_type": "stream",
          "text": "['Churn_Modelling.csv']\n",
          "name": "stdout"
        }
      ]
    },
    {
      "metadata": {
        "_uuid": "a91e1f7964773655b9aaa13dd53676680ccfb47d",
        "_cell_guid": "191e6ef1-260f-4f3e-822c-92397b6cc5df"
      },
      "cell_type": "markdown",
      "source": "# Data Preprocessing "
    },
    {
      "metadata": {
        "_uuid": "d629ff2d2480ee46fbb7e2d37f6b5fab8052498a",
        "_cell_guid": "79c7e3d0-c299-4dcb-8224-4455121ee9b0",
        "trusted": true,
        "collapsed": true
      },
      "cell_type": "code",
      "source": "#importing the dataset\ndataset = pd.read_csv('../input/Churn_Modelling.csv')\nX = dataset.iloc[:,3:13].values\ny = dataset.iloc[:, 13].values",
      "execution_count": 2,
      "outputs": []
    },
    {
      "metadata": {
        "_uuid": "6ead7a5a9bd53033a6e2d72ee0d04c102ac62547",
        "_cell_guid": "4a8358b6-15f3-447a-b7ca-84b1260be431",
        "trusted": true
      },
      "cell_type": "code",
      "source": "# Encoding categorical (string based) data. Country: there are 3 options: France, Spain and Germany\n# This will convert those strings into scalar values for analysis\nprint(X[:8,1], '... will now become: ')\nfrom sklearn.preprocessing import LabelEncoder, OneHotEncoder\nlabel_X_country_encoder = LabelEncoder()\nX[:,1] = label_X_country_encoder.fit_transform(X[:,1])\nprint(X[:8,1])",
      "execution_count": 3,
      "outputs": [
        {
          "output_type": "stream",
          "text": "['France' 'Spain' 'France' 'France' 'Spain' 'Spain' 'France' 'Germany'] ... will now become: \n[0 2 0 0 2 2 0 1]\n",
          "name": "stdout"
        }
      ]
    },
    {
      "metadata": {
        "_uuid": "faf9d15f5568ebbaf1473a5341a7b38251d314c7",
        "_cell_guid": "50bb2761-7b6f-4612-978b-250bc52a7707",
        "trusted": true
      },
      "cell_type": "code",
      "source": "# We will do the same thing for gender. this will be binary in this dataset\nprint(X[:6,2], '... will now become: ')\nfrom sklearn.preprocessing import LabelEncoder, OneHotEncoder\nlabel_X_gender_encoder = LabelEncoder()\nX[:,2] = label_X_gender_encoder.fit_transform(X[:,2])\nprint(X[:6,2])",
      "execution_count": 4,
      "outputs": [
        {
          "output_type": "stream",
          "text": "['Female' 'Female' 'Female' 'Female' 'Female' 'Male'] ... will now become: \n[0 0 0 0 0 1]\n",
          "name": "stdout"
        }
      ]
    },
    {
      "metadata": {
        "_uuid": "bb22f8944d080dcbd92a885f7ce59803bc16f61e",
        "_cell_guid": "6958b07a-5e29-403d-9d60-c08d97e05a51"
      },
      "cell_type": "markdown",
      "source": "The Problem here is that we are treating the countries as one variable with ordinal values (0 < 1 <  2). Therefore, one way to get rid of that problem is to split the countries into respective dimensions. that is,\n\n| Country |  -> | Country|-> |Spain|France|Germany|\n|------|      |------|  |------|    |------|    |------|\n|   Spain |   -> |0| -> |1|0|0|\n|   France | -> |1| -> |0|1|0|\n|   France | ->  |1| -> |0|1|0|\n|   Germany | -> |2| -> |0|0|1|"
    },
    {
      "metadata": {
        "_uuid": "4a096f238a4c58f81f6e975cfbbfbafe81394bba",
        "_cell_guid": "fd292a3a-af3a-4e01-a6a3-0f4f9e4eaa3e"
      },
      "cell_type": "markdown",
      "source": "\nGender doesn't need to go through a similar process becasue it is binary"
    },
    {
      "metadata": {
        "_uuid": "9334654d846ed1d7c86b17c5cda8fd43ba193a62",
        "collapsed": true,
        "_cell_guid": "7919a746-8eb9-4d5f-967f-d3e513320a93",
        "trusted": true
      },
      "cell_type": "code",
      "source": "# Converting the string features into their own dimensions. Gender doesn't matter here because its binary\ncountryhotencoder = OneHotEncoder(categorical_features = [1]) # 1 is the country column\nX = countryhotencoder.fit_transform(X).toarray()",
      "execution_count": 5,
      "outputs": []
    },
    {
      "metadata": {
        "_uuid": "2cf8373049650db015e6514cc53df8199ee8be6c",
        "_cell_guid": "1da47322-1623-4c4f-8328-a45e137b9d55",
        "trusted": true
      },
      "cell_type": "code",
      "source": "X",
      "execution_count": 6,
      "outputs": [
        {
          "output_type": "execute_result",
          "execution_count": 6,
          "data": {
            "text/plain": "array([[1.0000000e+00, 0.0000000e+00, 0.0000000e+00, ..., 1.0000000e+00,\n        1.0000000e+00, 1.0134888e+05],\n       [0.0000000e+00, 0.0000000e+00, 1.0000000e+00, ..., 0.0000000e+00,\n        1.0000000e+00, 1.1254258e+05],\n       [1.0000000e+00, 0.0000000e+00, 0.0000000e+00, ..., 1.0000000e+00,\n        0.0000000e+00, 1.1393157e+05],\n       ...,\n       [1.0000000e+00, 0.0000000e+00, 0.0000000e+00, ..., 0.0000000e+00,\n        1.0000000e+00, 4.2085580e+04],\n       [0.0000000e+00, 1.0000000e+00, 0.0000000e+00, ..., 1.0000000e+00,\n        0.0000000e+00, 9.2888520e+04],\n       [1.0000000e+00, 0.0000000e+00, 0.0000000e+00, ..., 1.0000000e+00,\n        0.0000000e+00, 3.8190780e+04]])"
          },
          "metadata": {}
        }
      ]
    },
    {
      "metadata": {
        "_uuid": "134720c31d216016bb6093571ca1cf08e49f0014",
        "_cell_guid": "6f5ab21e-bc4c-4d23-8124-b7fbde15295a"
      },
      "cell_type": "markdown",
      "source": "You can now see that the first three columns represent the three countries that constituted the \"country\" category. We can now observe that  we essentially only need two columns: a 0 on two countries means that the country has to be the one variable which wasn't included. This will save us from the problem of using too many dimensions\n\n|Spain|France|Germany|-> |France|Germany|\n |------|    |------|    |------|     |------|     |------|\n |1|0|0|-> |0|0|\n|0|1|0|-> |1|0|\n|0|1|0|-> |1|0|\n|0|0|1|-> |0|1|"
    },
    {
      "metadata": {
        "_uuid": "43a5f7db6a5972cf3aa22ee84286d16871410113",
        "collapsed": true,
        "_cell_guid": "519c673a-19a4-43a9-8a52-f8d7fc2cd854",
        "trusted": true
      },
      "cell_type": "code",
      "source": "X = X[:,1:] # Got rid of Spain as a dimension. It is still there through out inferences",
      "execution_count": 7,
      "outputs": []
    },
    {
      "metadata": {
        "_uuid": "b2608c0cb6e23abc91618d95ed9a06c1c0195c08",
        "collapsed": true,
        "_cell_guid": "94dc69ae-e276-4ab8-9d42-89360e0f7ebb",
        "trusted": true
      },
      "cell_type": "code",
      "source": "# Splitting the dataset into the Training and Testing set.\nfrom sklearn.model_selection import train_test_split\nX_train, X_test, y_train, y_test = train_test_split(X,y, test_size = 0.2, random_state = 0)",
      "execution_count": 8,
      "outputs": []
    },
    {
      "metadata": {
        "_uuid": "baee254e5d7c52966a84ad53aa890b1b0c548436",
        "_cell_guid": "19c34bde-4901-4116-81b5-0b2699cc8edc"
      },
      "cell_type": "markdown",
      "source": "Feature scaling is a method used to standardize the range of independent variables or features of data. It is basically scaling all the dimensions to be even so that one independent variable does not dominate another. For example, bank account balance ranges from millions to 0, whereas gender is either 0 or 1. If one of the features has a broad range of values, the distance will be governed by this particular feature. Therefore, the range of all features should be normalized so that each feature contributes approximately proportionately to the final distance."
    },
    {
      "metadata": {
        "_uuid": "eb0f062f80060a4a608cebb1db7e08cb48d3c6d1",
        "_cell_guid": "0d825f73-80a2-4b55-8c5d-1546055c0ade",
        "trusted": true,
        "collapsed": true
      },
      "cell_type": "code",
      "source": "# Feature Scaling\nfrom sklearn.preprocessing import StandardScaler\nsc=StandardScaler()\nX_train = sc.fit_transform(X_train)\nX_test = sc.transform(X_test)",
      "execution_count": 9,
      "outputs": []
    },
    {
      "metadata": {
        "_uuid": "00892464955a6ad79489335772ae7fbe2471ac2c",
        "_cell_guid": "a96ac596-f07b-451c-a7aa-f98dc29bba81",
        "trusted": true
      },
      "cell_type": "code",
      "source": "X_train",
      "execution_count": 10,
      "outputs": [
        {
          "output_type": "execute_result",
          "execution_count": 10,
          "data": {
            "text/plain": "array([[-0.5698444 ,  1.74309049,  0.16958176, ...,  0.64259497,\n        -1.03227043,  1.10643166],\n       [ 1.75486502, -0.57369368, -2.30455945, ...,  0.64259497,\n         0.9687384 , -0.74866447],\n       [-0.5698444 , -0.57369368, -1.19119591, ...,  0.64259497,\n        -1.03227043,  1.48533467],\n       ...,\n       [-0.5698444 , -0.57369368,  0.9015152 , ...,  0.64259497,\n        -1.03227043,  1.41231994],\n       [-0.5698444 ,  1.74309049, -0.62420521, ...,  0.64259497,\n         0.9687384 ,  0.84432121],\n       [ 1.75486502, -0.57369368, -0.28401079, ...,  0.64259497,\n        -1.03227043,  0.32472465]])"
          },
          "metadata": {}
        }
      ]
    },
    {
      "metadata": {
        "_uuid": "b3fa3ccbeac661426e3d06ed7dde162e4c33a5b5",
        "_cell_guid": "3aab87d5-3ff3-4d4e-8a32-b7aa25f68a8f"
      },
      "cell_type": "markdown",
      "source": "## END OF PREPROCESSING"
    },
    {
      "metadata": {
        "_uuid": "0e8b906682881ca9171a69ae9bfe35627ee1df0c"
      },
      "cell_type": "markdown",
      "source": "## Making the ANN"
    },
    {
      "metadata": {
        "trusted": true,
        "collapsed": true,
        "_uuid": "5c6e16963af4eec401b38062afc332d6f7a550cc"
      },
      "cell_type": "code",
      "source": "import keras # Test out Theano when time permits as well",
      "execution_count": 20,
      "outputs": []
    },
    {
      "metadata": {
        "trusted": true,
        "collapsed": true,
        "_uuid": "763a3760a9b7a0139d42fbcbe1c0c67f646f9878"
      },
      "cell_type": "code",
      "source": "from keras.models import Sequential\nfrom keras.layers import Dense",
      "execution_count": 21,
      "outputs": []
    },
    {
      "metadata": {
        "trusted": true,
        "collapsed": true,
        "_uuid": "937d47bf2fa3b8decb9126306dfe76827dee617d"
      },
      "cell_type": "code",
      "source": "# Initializing the ANN\nclassifier = Sequential()",
      "execution_count": 22,
      "outputs": []
    },
    {
      "metadata": {
        "_uuid": "c2da4eab071eb457738d1c605186785f2a5121e3"
      },
      "cell_type": "markdown",
      "source": "A hurestic tip is that the amount of nodes (dimensions) in your hidden layer should be the average of your input and output layers, which means that since we have 11 dimensions (representing **Independent variables** Note: Countries still compose only  **one** dimension) and we are looking for a binary output, we calculate this to be $(11+1)\\div 2 = 6 $.\n\n#### The breakdown of the inputs for the first layer is as follows:\n\n*activiation*: **relu** becasue we are in an input layer. uses the ReLu activation function for $\\phi$\n\n*input_dim*: **11** because we span 11 dimensions in our input layer. This is needed for the first added layer. The subsequent layers's input dimensions can be inferred using the previously added layer's output dimension. The next hidden layer will know what to expect.\n\n*units*: **6** nodes (number of nodes in hidden layer). Can think of this as number of nodes are in the next layer.\n\n*kernel_initializer*: **uniform**  the distribution with which we randomly initialize weights for the nodes in this layer. \n\n"
    },
    {
      "metadata": {
        "trusted": true,
        "_uuid": "b3899e3d5e558dc8c6e46e0045db0c7b8e08d5ce"
      },
      "cell_type": "code",
      "source": "# This adds the input layer (by specifying input dimension) AND the first hidden layer (units)\nclassifier.add(Dense(activation = 'relu', input_dim = 11, units=6, kernel_initializer='uniform'))",
      "execution_count": 23,
      "outputs": []
    },
    {
      "metadata": {
        "_uuid": "6cba705e48531b949ab86b52ff93da3ebb2fcf4f"
      },
      "cell_type": "markdown",
      "source": "### We are going to add another layer to this model because we want to implement Deep Learning, which is an artificial Neural network with many layers.\nWe will make our second hidden layer also have 6 nodes, just playing with the same arithmetic we used to determine the dimensions of the first hidden layer (average of your input and output layers) $(11+1)\\div 2 = 6 $."
    },
    {
      "metadata": {
        "trusted": true,
        "collapsed": true,
        "_uuid": "76a95bf1a067fc30166e2cdd1a03a682235cfb7c"
      },
      "cell_type": "code",
      "source": "# Adding the second hidden layer\n# Notice that we do not need to specify input dim. \nclassifier.add(Dense(activation = 'relu', units=6, kernel_initializer='uniform')) ",
      "execution_count": 24,
      "outputs": []
    },
    {
      "metadata": {
        "_uuid": "54e4d717711baa5fe7d1041d04dbabf645673685"
      },
      "cell_type": "markdown",
      "source": "### Adding the output layer\n#### The breakdown of the inputs for the output layer is as follows:\n\n*activiation*: **sigmoid** becasue we are in an output layer. uses the Sigmoid activation function for $\\phi$. This is used instead of the ReLu function becasue it generates probabilities for the outcome. We want the probability that each customer leaves the bank.  \n\n*input_dim*: **11** because we span 11 dimensions in our input layer. This is needed for the first added layer. The subsequent layers's input dimensions can be inferred using the previously added layer's output dimension. The next hidden layer will know what to expect.\n\n*units*: **6** nodes (number of nodes in hidden layer). Can think of this as number of nodes are in the next layer.\n\n*kernel_initializer*: **uniform**  the distribution with which we randomly initialize weights for the nodes in this layer. "
    },
    {
      "metadata": {
        "trusted": true,
        "collapsed": true,
        "_uuid": "db851e3cabda88e6c40c83c360205121f109238f"
      },
      "cell_type": "code",
      "source": "# Adding the output layer\n# Notice that we do not need to specify input dim. \n# we have an output of 1 node, which is the the desired dimensions of our output (stay with the bank or not)\n# We use the sigmoid because we want probability outcomes\nclassifier.add(Dense(activation = 'sigmoid', units=1, kernel_initializer='uniform')) ",
      "execution_count": 25,
      "outputs": []
    },
    {
      "metadata": {
        "_uuid": "e4eecaef1e0b03b88c421b6c67a3315c49ca53fd"
      },
      "cell_type": "markdown",
      "source": "\n### If we want more than two categories, then we will need to change \n\n 1) the *units* parameter to match the desired category count\n \n 2) the *activation* field to **softmax**.  Basically a sigmoid function but applied to a dependent variable that has more than 2 categories."
    },
    {
      "metadata": {
        "_uuid": "ff99a23893bfe59f8369d5da7497c0f4bdcb24a1"
      },
      "cell_type": "markdown",
      "source": "## Compiling the Neural Network\nBasically applying Stochastic Gradient descent on the whole Neural Network. We are Tuning the individual weights on each neuron.\n\n#### The breakdown of the inputs for compiling is as follows:\n\n*optimizer*: ** adam** The algorithm we want to use to find the optimal set of weights in the neural networks.  Adam is a very efficeint variation of Stochastic Gradient Descent.\n\n*loss*: **binary_crossentropy** This is the loss function used within adam. This should be the logarthmic loss. If our dependent (output variable) is *Binary*, it is **binary_crossentropy**. If *Categorical*, then it is called **categorical_crossentropy**\n\n*metrics*: **[accuracy]** The accuracy metrics which will be evaluated(minimized) by the model. Used as accuracy criteria to imporve model performance. \n\n*kernel_initializer*: **uniform**  the distribution with which we randomly initialize weights for the nodes in this layer. "
    },
    {
      "metadata": {
        "trusted": true,
        "collapsed": true,
        "_uuid": "40c47ed547e09ddeed6655bb91ca11fb18d84805"
      },
      "cell_type": "code",
      "source": "classifier.compile(optimizer='adam', loss = 'binary_crossentropy', metrics=['accuracy'])",
      "execution_count": 26,
      "outputs": []
    },
    {
      "metadata": {
        "_uuid": "5d8373896f1d9a7489bef8c0af5821b2811f23bd"
      },
      "cell_type": "markdown",
      "source": "## Testing the ANN\n### Predicting the Test set results"
    },
    {
      "metadata": {
        "trusted": true,
        "collapsed": true,
        "_uuid": "a1bd745892d6876c27058e6617d925ab498437ff"
      },
      "cell_type": "code",
      "source": "y_pred = classifier.predict(X_test)",
      "execution_count": null,
      "outputs": []
    },
    {
      "metadata": {
        "_uuid": "f6bef3ebf1c382bd44087d1df4f50108e0706c32"
      },
      "cell_type": "markdown",
      "source": "### Making the Confusion Matrix"
    },
    {
      "metadata": {
        "trusted": true,
        "collapsed": true,
        "_uuid": "26b29e9a8a3c90d97fae98d101750d60e115eedb"
      },
      "cell_type": "code",
      "source": "from sklearn.metrics import confusion_matrix\ncm = confusion_matrix(y_test, y_pred)",
      "execution_count": null,
      "outputs": []
    }
  ],
  "metadata": {
    "kernelspec": {
      "display_name": "Python 3",
      "language": "python",
      "name": "python3"
    },
    "language_info": {
      "name": "python",
      "version": "3.6.4",
      "mimetype": "text/x-python",
      "codemirror_mode": {
        "name": "ipython",
        "version": 3
      },
      "pygments_lexer": "ipython3",
      "nbconvert_exporter": "python",
      "file_extension": ".py"
    }
  },
  "nbformat": 4,
  "nbformat_minor": 1
}