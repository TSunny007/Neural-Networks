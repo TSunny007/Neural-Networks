{
  "cells": [
    {
      "metadata": {
        "_uuid": "e20f9fc084c0821a13614955c40f77934d2b1552"
      },
      "cell_type": "markdown",
      "source": "# Bank Customer Classification\n## Given a dataset consisiting of Bank Customer information, we are asked to build a classifier which will tell us if a customer will exit the bank or not."
    },
    {
      "metadata": {
        "_cell_guid": "b1076dfc-b9ad-4769-8c92-a6c4dae69d19",
        "_uuid": "8f2839f25d086af736a60e9eeb907d3b93b6e0e5",
        "trusted": true
      },
      "cell_type": "code",
      "source": "import theano\nimport tensorflow\nimport numpy as np\nimport matplotlib.pyplot as plt\nimport pandas as pd\n\nimport os\nprint(os.listdir(\"../input\"))",
      "execution_count": 1,
      "outputs": [
        {
          "name": "stderr",
          "output_type": "stream",
          "text": "/opt/conda/lib/python3.6/site-packages/h5py/__init__.py:36: FutureWarning: Conversion of the second argument of issubdtype from `float` to `np.floating` is deprecated. In future, it will be treated as `np.float64 == np.dtype(float).type`.\n  from ._conv import register_converters as _register_converters\n"
        },
        {
          "name": "stdout",
          "output_type": "stream",
          "text": "['Churn_Modelling.csv']\n"
        }
      ]
    },
    {
      "metadata": {
        "_cell_guid": "191e6ef1-260f-4f3e-822c-92397b6cc5df",
        "_uuid": "a91e1f7964773655b9aaa13dd53676680ccfb47d"
      },
      "cell_type": "markdown",
      "source": "# Data Preprocessing "
    },
    {
      "metadata": {
        "_uuid": "898e9f9232897e1355dce2e85551a4592d512f7d"
      },
      "cell_type": "markdown",
      "source": "### In this dataset, we have to consider which of the factors may play a role in someone exiting a bank. To do that we must look at all  the column and infer whether it will matter in classifying a new customer or not.  The information about a customer is entailed in columns 0 through 12 (RowNumber-EstimatedSalary), while the output (whether the customer exited or not) is stored in the 13th row (Exited). \n\nFor as much as we care, neither the customer ID, nor the surname should matter in classification. \nTherefore, we will use columns 3 (CreditScore) inclusive through the 13th column (exclusive).\n"
    },
    {
      "metadata": {
        "_cell_guid": "79c7e3d0-c299-4dcb-8224-4455121ee9b0",
        "_uuid": "d629ff2d2480ee46fbb7e2d37f6b5fab8052498a",
        "collapsed": true,
        "trusted": true
      },
      "cell_type": "code",
      "source": "#importing the dataset\ndataset = pd.read_csv('../input/Churn_Modelling.csv')\nX = dataset.iloc[:,3:13].values # Credit Score through Estimated Salary\ny = dataset.iloc[:, 13].values # Exited",
      "execution_count": 2,
      "outputs": []
    },
    {
      "metadata": {
        "_cell_guid": "4a8358b6-15f3-447a-b7ca-84b1260be431",
        "_uuid": "6ead7a5a9bd53033a6e2d72ee0d04c102ac62547",
        "trusted": true
      },
      "cell_type": "code",
      "source": "# Encoding categorical (string based) data. Country: there are 3 options: France, Spain and Germany\n# This will convert those strings into scalar values for analysis\nprint(X[:8,1], '... will now become: ')\nfrom sklearn.preprocessing import LabelEncoder, OneHotEncoder\nlabel_X_country_encoder = LabelEncoder()\nX[:,1] = label_X_country_encoder.fit_transform(X[:,1])\nprint(X[:8,1])",
      "execution_count": 3,
      "outputs": [
        {
          "name": "stdout",
          "output_type": "stream",
          "text": "['France' 'Spain' 'France' 'France' 'Spain' 'Spain' 'France' 'Germany'] ... will now become: \n[0 2 0 0 2 2 0 1]\n"
        }
      ]
    },
    {
      "metadata": {
        "_cell_guid": "50bb2761-7b6f-4612-978b-250bc52a7707",
        "_uuid": "faf9d15f5568ebbaf1473a5341a7b38251d314c7",
        "trusted": true
      },
      "cell_type": "code",
      "source": "# We will do the same thing for gender. this will be binary in this dataset\nprint(X[:6,2], '... will now become: ')\nfrom sklearn.preprocessing import LabelEncoder, OneHotEncoder\nlabel_X_gender_encoder = LabelEncoder()\nX[:,2] = label_X_gender_encoder.fit_transform(X[:,2])\nprint(X[:6,2])",
      "execution_count": 4,
      "outputs": [
        {
          "name": "stdout",
          "output_type": "stream",
          "text": "['Female' 'Female' 'Female' 'Female' 'Female' 'Male'] ... will now become: \n[0 0 0 0 0 1]\n"
        }
      ]
    },
    {
      "metadata": {
        "_cell_guid": "6958b07a-5e29-403d-9d60-c08d97e05a51",
        "_uuid": "bb22f8944d080dcbd92a885f7ce59803bc16f61e"
      },
      "cell_type": "markdown",
      "source": "The Problem here is that we are treating the countries as one variable with ordinal values (0 < 1 <  2). Therefore, one way to get rid of that problem is to split the countries into respective dimensions. that is,\n\n| Country |  -> | Country|-> |Spain|France|Germany|\n|------|      |------|  |------|    |------|    |------|\n|   Spain |   -> |0| -> |1|0|0|\n|   France | -> |1| -> |0|1|0|\n|   France | ->  |1| -> |0|1|0|\n|   Germany | -> |2| -> |0|0|1|"
    },
    {
      "metadata": {
        "_cell_guid": "fd292a3a-af3a-4e01-a6a3-0f4f9e4eaa3e",
        "_uuid": "4a096f238a4c58f81f6e975cfbbfbafe81394bba"
      },
      "cell_type": "markdown",
      "source": "\nGender doesn't need to go through a similar process becasue it is binary"
    },
    {
      "metadata": {
        "_cell_guid": "7919a746-8eb9-4d5f-967f-d3e513320a93",
        "_uuid": "9334654d846ed1d7c86b17c5cda8fd43ba193a62",
        "collapsed": true,
        "trusted": true
      },
      "cell_type": "code",
      "source": "# Converting the string features into their own dimensions. Gender doesn't matter here because its binary\ncountryhotencoder = OneHotEncoder(categorical_features = [1]) # 1 is the country column\nX = countryhotencoder.fit_transform(X).toarray()",
      "execution_count": 5,
      "outputs": []
    },
    {
      "metadata": {
        "_cell_guid": "1da47322-1623-4c4f-8328-a45e137b9d55",
        "_uuid": "2cf8373049650db015e6514cc53df8199ee8be6c",
        "trusted": true
      },
      "cell_type": "code",
      "source": "X",
      "execution_count": 6,
      "outputs": [
        {
          "data": {
            "text/plain": "array([[1.0000000e+00, 0.0000000e+00, 0.0000000e+00, ..., 1.0000000e+00,\n        1.0000000e+00, 1.0134888e+05],\n       [0.0000000e+00, 0.0000000e+00, 1.0000000e+00, ..., 0.0000000e+00,\n        1.0000000e+00, 1.1254258e+05],\n       [1.0000000e+00, 0.0000000e+00, 0.0000000e+00, ..., 1.0000000e+00,\n        0.0000000e+00, 1.1393157e+05],\n       ...,\n       [1.0000000e+00, 0.0000000e+00, 0.0000000e+00, ..., 0.0000000e+00,\n        1.0000000e+00, 4.2085580e+04],\n       [0.0000000e+00, 1.0000000e+00, 0.0000000e+00, ..., 1.0000000e+00,\n        0.0000000e+00, 9.2888520e+04],\n       [1.0000000e+00, 0.0000000e+00, 0.0000000e+00, ..., 1.0000000e+00,\n        0.0000000e+00, 3.8190780e+04]])"
          },
          "execution_count": 6,
          "metadata": {},
          "output_type": "execute_result"
        }
      ]
    },
    {
      "metadata": {
        "_cell_guid": "6f5ab21e-bc4c-4d23-8124-b7fbde15295a",
        "_uuid": "134720c31d216016bb6093571ca1cf08e49f0014"
      },
      "cell_type": "markdown",
      "source": "You can now see that the first three columns represent the three countries that constituted the \"country\" category. We can now observe that  we essentially only need two columns: a 0 on two countries means that the country has to be the one variable which wasn't included. This will save us from the problem of using too many dimensions\n\n|Spain|France|Germany|-> |France|Germany|\n |------|    |------|    |------|     |------|     |------|\n |1|0|0|-> |0|0|\n|0|1|0|-> |1|0|\n|0|1|0|-> |1|0|\n|0|0|1|-> |0|1|"
    },
    {
      "metadata": {
        "_cell_guid": "519c673a-19a4-43a9-8a52-f8d7fc2cd854",
        "_uuid": "43a5f7db6a5972cf3aa22ee84286d16871410113",
        "collapsed": true,
        "trusted": true
      },
      "cell_type": "code",
      "source": "X = X[:,1:] # Got rid of Spain as a dimension. It is still there through out inferences",
      "execution_count": 7,
      "outputs": []
    },
    {
      "metadata": {
        "_cell_guid": "94dc69ae-e276-4ab8-9d42-89360e0f7ebb",
        "_uuid": "b2608c0cb6e23abc91618d95ed9a06c1c0195c08",
        "collapsed": true,
        "trusted": true
      },
      "cell_type": "code",
      "source": "# Splitting the dataset into the Training and Testing set.\nfrom sklearn.model_selection import train_test_split\nX_train, X_test, y_train, y_test = train_test_split(X,y, test_size = 0.2, random_state = 0)",
      "execution_count": 8,
      "outputs": []
    },
    {
      "metadata": {
        "_cell_guid": "19c34bde-4901-4116-81b5-0b2699cc8edc",
        "_uuid": "baee254e5d7c52966a84ad53aa890b1b0c548436"
      },
      "cell_type": "markdown",
      "source": "Feature scaling is a method used to standardize the range of independent variables or features of data. It is basically scaling all the dimensions to be even so that one independent variable does not dominate another. For example, bank account balance ranges from millions to 0, whereas gender is either 0 or 1. If one of the features has a broad range of values, the distance will be governed by this particular feature. Therefore, the range of all features should be normalized so that each feature contributes approximately proportionately to the final distance."
    },
    {
      "metadata": {
        "_cell_guid": "0d825f73-80a2-4b55-8c5d-1546055c0ade",
        "_uuid": "eb0f062f80060a4a608cebb1db7e08cb48d3c6d1",
        "collapsed": true,
        "trusted": true
      },
      "cell_type": "code",
      "source": "# Feature Scaling\nfrom sklearn.preprocessing import StandardScaler\nsc=StandardScaler()\nX_train = sc.fit_transform(X_train)\nX_test = sc.transform(X_test)",
      "execution_count": 9,
      "outputs": []
    },
    {
      "metadata": {
        "_cell_guid": "a96ac596-f07b-451c-a7aa-f98dc29bba81",
        "_uuid": "00892464955a6ad79489335772ae7fbe2471ac2c",
        "trusted": true
      },
      "cell_type": "code",
      "source": "X_train",
      "execution_count": 10,
      "outputs": [
        {
          "data": {
            "text/plain": "array([[-0.5698444 ,  1.74309049,  0.16958176, ...,  0.64259497,\n        -1.03227043,  1.10643166],\n       [ 1.75486502, -0.57369368, -2.30455945, ...,  0.64259497,\n         0.9687384 , -0.74866447],\n       [-0.5698444 , -0.57369368, -1.19119591, ...,  0.64259497,\n        -1.03227043,  1.48533467],\n       ...,\n       [-0.5698444 , -0.57369368,  0.9015152 , ...,  0.64259497,\n        -1.03227043,  1.41231994],\n       [-0.5698444 ,  1.74309049, -0.62420521, ...,  0.64259497,\n         0.9687384 ,  0.84432121],\n       [ 1.75486502, -0.57369368, -0.28401079, ...,  0.64259497,\n        -1.03227043,  0.32472465]])"
          },
          "execution_count": 10,
          "metadata": {},
          "output_type": "execute_result"
        }
      ]
    },
    {
      "metadata": {
        "_cell_guid": "3aab87d5-3ff3-4d4e-8a32-b7aa25f68a8f",
        "_uuid": "b3fa3ccbeac661426e3d06ed7dde162e4c33a5b5"
      },
      "cell_type": "markdown",
      "source": "## END OF PREPROCESSING"
    },
    {
      "metadata": {
        "_cell_guid": "f8496b20-efff-48a4-8649-e6b60ac2e87b",
        "_uuid": "219c2ec9230ef437b87cd0ec5ffe5eece2843874"
      },
      "cell_type": "markdown",
      "source": "## Making the ANN"
    },
    {
      "metadata": {
        "_cell_guid": "e7845543-59c2-4802-b1fe-5096ad992fff",
        "_uuid": "8b166bec6c562467764525aa25e1b1478c04a7e3",
        "trusted": true
      },
      "cell_type": "code",
      "source": "import keras # Test out Theano when time permits as well",
      "execution_count": 11,
      "outputs": [
        {
          "name": "stderr",
          "output_type": "stream",
          "text": "Using TensorFlow backend.\n"
        }
      ]
    },
    {
      "metadata": {
        "_cell_guid": "9c95c5f3-117b-47ad-86e2-327cebb8db42",
        "_uuid": "7cd3ececc193a95174a8d5efff01468336951441",
        "collapsed": true,
        "trusted": true
      },
      "cell_type": "code",
      "source": "from keras.models import Sequential\nfrom keras.layers import Dense",
      "execution_count": 12,
      "outputs": []
    },
    {
      "metadata": {
        "_cell_guid": "477c2dd7-8267-4c0d-98d0-65483cfc47c0",
        "_uuid": "842944c858018351df27d454c03fe3bc3c3498c7",
        "collapsed": true,
        "trusted": true
      },
      "cell_type": "code",
      "source": "# Initializing the ANN\nclassifier = Sequential()",
      "execution_count": 13,
      "outputs": []
    },
    {
      "metadata": {
        "_cell_guid": "9a0c46ca-2e44-45bc-a48c-870f6aad0d0e",
        "_uuid": "a9c849675833548a819cf26298658158e844de59"
      },
      "cell_type": "markdown",
      "source": "A hurestic tip is that the amount of nodes (dimensions) in your hidden layer should be the average of your input and output layers, which means that since we have 11 dimensions (representing **Independent variables** Note: Countries still compose only  **one** dimension) and we are looking for a binary output, we calculate this to be $(11+1)\\div 2 = 6 $.\n\n#### The breakdown of the inputs for the first layer is as follows:\n\n*activiation*: **relu** becasue we are in an input layer. uses the ReLu activation function for $\\phi$\n\n*input_dim*: **11** because we span 11 dimensions in our input layer. This is needed for the first added layer. The subsequent layers's input dimensions can be inferred using the previously added layer's output dimension. The next hidden layer will know what to expect.\n\n*units*: **6** nodes (number of nodes in hidden layer). Can think of this as number of nodes are in the next layer.\n\n*kernel_initializer*: **uniform**  the distribution with which we randomly initialize weights for the nodes in this layer. \n\n"
    },
    {
      "metadata": {
        "_cell_guid": "74cbe4d8-517a-488d-92d0-71905549a062",
        "_uuid": "d714ebc59f601dd833a0eaafc6ae9a81b9f9f2d8",
        "collapsed": true,
        "trusted": true
      },
      "cell_type": "code",
      "source": "# This adds the input layer (by specifying input dimension) AND the first hidden layer (units)\nclassifier.add(Dense(activation = 'relu', input_dim = 11, units=6, kernel_initializer='uniform'))",
      "execution_count": 14,
      "outputs": []
    },
    {
      "metadata": {
        "_cell_guid": "0c30399e-24f6-44ac-b468-13ad68813a03",
        "_uuid": "47582c1198896d9c6276254440869f0ff685caa9"
      },
      "cell_type": "markdown",
      "source": "### We are going to add another layer to this model because we want to implement Deep Learning, which is an artificial Neural network with many layers.\nWe will make our second hidden layer also have 6 nodes, just playing with the same arithmetic we used to determine the dimensions of the first hidden layer (average of your input and output layers) $(11+1)\\div 2 = 6 $."
    },
    {
      "metadata": {
        "_cell_guid": "4b2e774c-dfae-425d-9814-791ba9385f54",
        "_uuid": "4ee4b599740bccfd59166e6589f471c267bd3ba6",
        "collapsed": true,
        "trusted": true
      },
      "cell_type": "code",
      "source": "# Adding the second hidden layer\n# Notice that we do not need to specify input dim. \nclassifier.add(Dense(activation = 'relu', units=6, kernel_initializer='uniform')) ",
      "execution_count": 15,
      "outputs": []
    },
    {
      "metadata": {
        "_cell_guid": "dcfa3079-f795-477b-a21c-e5cb3b6f0aef",
        "_uuid": "9f0c01f7d7019c1a73cb3cfe05dc03104b07fed7"
      },
      "cell_type": "markdown",
      "source": "### Adding the output layer\n#### The breakdown of the inputs for the output layer is as follows:\n\n*activiation*: **sigmoid** becasue we are in an output layer. uses the Sigmoid activation function for $\\phi$. This is used instead of the ReLu function becasue it generates probabilities for the outcome. We want the probability that each customer leaves the bank.  \n\n*input_dim*: **11** because we span 11 dimensions in our input layer. This is needed for the first added layer. The subsequent layers's input dimensions can be inferred using the previously added layer's output dimension. The next hidden layer will know what to expect.\n\n*units*: **6** nodes (number of nodes in hidden layer). Can think of this as number of nodes are in the next layer.\n\n*kernel_initializer*: **uniform**  the distribution with which we randomly initialize weights for the nodes in this layer. "
    },
    {
      "metadata": {
        "_cell_guid": "85159374-4412-4d00-8120-04e2d3797d18",
        "_uuid": "5e967723561562d1b402e531c51a9c505b3872cc",
        "collapsed": true,
        "trusted": true
      },
      "cell_type": "code",
      "source": "# Adding the output layer\n# Notice that we do not need to specify input dim. \n# we have an output of 1 node, which is the the desired dimensions of our output (stay with the bank or not)\n# We use the sigmoid because we want probability outcomes\nclassifier.add(Dense(activation = 'sigmoid', units=1, kernel_initializer='uniform')) ",
      "execution_count": 16,
      "outputs": []
    },
    {
      "metadata": {
        "_cell_guid": "aeca69c0-472e-4344-8523-d5c5a4893650",
        "_uuid": "313cad84163d80c20e00eaac2d493c8eb50dab30"
      },
      "cell_type": "markdown",
      "source": "\n### If we want more than two categories, then we will need to change \n\n 1) the *units* parameter to match the desired category count\n \n 2) the *activation* field to **softmax**.  Basically a sigmoid function but applied to a dependent variable that has more than 2 categories."
    },
    {
      "metadata": {
        "_cell_guid": "ba09a55b-572d-442c-9733-724600df8f9b",
        "_uuid": "f220ac215b66c3f765d05ee1d1ac1ba51854bd5e"
      },
      "cell_type": "markdown",
      "source": "## Compiling the Neural Network\nBasically applying Stochastic Gradient descent on the whole Neural Network. We are Tuning the individual weights on each neuron.\n\n#### The breakdown of the inputs for compiling is as follows:\n\n*optimizer*: ** adam** The algorithm we want to use to find the optimal set of weights in the neural networks.  Adam is a very efficeint variation of Stochastic Gradient Descent.\n\n*loss*: **binary_crossentropy** This is the loss function used within adam. This should be the logarthmic loss. If our dependent (output variable) is *Binary*, it is **binary_crossentropy**. If *Categorical*, then it is called **categorical_crossentropy**\n\n*metrics*: **[accuracy]** The accuracy metrics which will be evaluated(minimized) by the model. Used as accuracy criteria to imporve model performance. \n\n*kernel_initializer*: **uniform**  the distribution with which we randomly initialize weights for the nodes in this layer. "
    },
    {
      "metadata": {
        "_cell_guid": "269e47c9-d147-4013-b704-3f74fd344315",
        "_uuid": "827b3e0bb61ebad44f545d74b8bc021bbca6f1b2",
        "collapsed": true,
        "trusted": true
      },
      "cell_type": "code",
      "source": "classifier.compile(optimizer='adam', loss = 'binary_crossentropy', metrics=['accuracy'])",
      "execution_count": 17,
      "outputs": []
    },
    {
      "metadata": {
        "_cell_guid": "db47d3e6-fd4f-461d-aa7a-b743c6fcf260",
        "_uuid": "d303bdd6aeb12b5ef9bd58d7a695ecfbc66bb131"
      },
      "cell_type": "markdown",
      "source": "## Fitting the Neural Network\nThis is where we will be fitting the ANN to our training set.\n\n#### The breakdown of the inputs for compiling is as follows:\n\n** X_train** The independent variable portion of the data which needs to be fitted with the model.\n\n** Y_train** The output portion of the data which the model needs to produce after fitting.\n\n*batch_size*:  How often we want to back-propogate the error values so that individual node weights can be adjusted. \n\n*nb_epochs*: The number of times we want to run the entire test data over again to tune the weights. This is like the fuel of the algorithm. "
    },
    {
      "metadata": {
        "_cell_guid": "5ab480db-3223-4577-87d9-27ab42572679",
        "_uuid": "2373dff1ff229dbe72f41418035daf29049804df",
        "trusted": true
      },
      "cell_type": "code",
      "source": "classifier.fit(X_train, y_train, batch_size=10, epochs=100)",
      "execution_count": 18,
      "outputs": [
        {
          "name": "stdout",
          "output_type": "stream",
          "text": "Epoch 1/100\n8000/8000 [==============================] - 2s 221us/step - loss: 0.4864 - acc: 0.7959\nEpoch 2/100\n8000/8000 [==============================] - 2s 189us/step - loss: 0.4258 - acc: 0.7960\nEpoch 3/100\n8000/8000 [==============================] - 1s 187us/step - loss: 0.4182 - acc: 0.8214\nEpoch 4/100\n8000/8000 [==============================] - 1s 186us/step - loss: 0.4128 - acc: 0.8289\nEpoch 5/100\n8000/8000 [==============================] - 2s 194us/step - loss: 0.4092 - acc: 0.8325\nEpoch 6/100\n8000/8000 [==============================] - 2s 189us/step - loss: 0.4066 - acc: 0.8329\nEpoch 7/100\n8000/8000 [==============================] - 2s 190us/step - loss: 0.4048 - acc: 0.8340\nEpoch 8/100\n8000/8000 [==============================] - 2s 190us/step - loss: 0.4029 - acc: 0.8350\nEpoch 9/100\n8000/8000 [==============================] - 2s 196us/step - loss: 0.4013 - acc: 0.8355\nEpoch 10/100\n8000/8000 [==============================] - 2s 188us/step - loss: 0.4002 - acc: 0.8362\nEpoch 11/100\n8000/8000 [==============================] - 2s 194us/step - loss: 0.3993 - acc: 0.8355\nEpoch 12/100\n8000/8000 [==============================] - 2s 192us/step - loss: 0.3988 - acc: 0.8349\nEpoch 13/100\n8000/8000 [==============================] - 2s 188us/step - loss: 0.3983 - acc: 0.8346\nEpoch 14/100\n8000/8000 [==============================] - 1s 184us/step - loss: 0.3977 - acc: 0.8352\nEpoch 15/100\n8000/8000 [==============================] - 2s 197us/step - loss: 0.3971 - acc: 0.8354\nEpoch 16/100\n8000/8000 [==============================] - 2s 189us/step - loss: 0.3972 - acc: 0.8352\nEpoch 17/100\n8000/8000 [==============================] - 2s 189us/step - loss: 0.3965 - acc: 0.8365\nEpoch 18/100\n8000/8000 [==============================] - 2s 188us/step - loss: 0.3964 - acc: 0.8351\nEpoch 19/100\n8000/8000 [==============================] - 2s 189us/step - loss: 0.3965 - acc: 0.8357\nEpoch 20/100\n8000/8000 [==============================] - 2s 190us/step - loss: 0.3955 - acc: 0.8367\nEpoch 21/100\n8000/8000 [==============================] - 2s 192us/step - loss: 0.3957 - acc: 0.8364\nEpoch 22/100\n8000/8000 [==============================] - 2s 190us/step - loss: 0.3956 - acc: 0.8360\nEpoch 23/100\n8000/8000 [==============================] - 2s 197us/step - loss: 0.3952 - acc: 0.8361\nEpoch 24/100\n8000/8000 [==============================] - 2s 191us/step - loss: 0.3950 - acc: 0.8369\nEpoch 25/100\n8000/8000 [==============================] - 2s 193us/step - loss: 0.3954 - acc: 0.8341\nEpoch 26/100\n8000/8000 [==============================] - 2s 190us/step - loss: 0.3953 - acc: 0.8346\nEpoch 27/100\n8000/8000 [==============================] - 2s 189us/step - loss: 0.3950 - acc: 0.8364\nEpoch 28/100\n8000/8000 [==============================] - 2s 191us/step - loss: 0.3950 - acc: 0.8367\nEpoch 29/100\n8000/8000 [==============================] - 2s 194us/step - loss: 0.3950 - acc: 0.8359\nEpoch 30/100\n8000/8000 [==============================] - 2s 195us/step - loss: 0.3951 - acc: 0.8367\nEpoch 31/100\n8000/8000 [==============================] - 2s 190us/step - loss: 0.3946 - acc: 0.8371\nEpoch 32/100\n8000/8000 [==============================] - 2s 188us/step - loss: 0.3948 - acc: 0.8362\nEpoch 33/100\n8000/8000 [==============================] - 2s 190us/step - loss: 0.3941 - acc: 0.8382\nEpoch 34/100\n8000/8000 [==============================] - 1s 187us/step - loss: 0.3947 - acc: 0.8377\nEpoch 35/100\n8000/8000 [==============================] - 1s 182us/step - loss: 0.3947 - acc: 0.8375\nEpoch 36/100\n8000/8000 [==============================] - 1s 187us/step - loss: 0.3946 - acc: 0.8366\nEpoch 37/100\n8000/8000 [==============================] - 2s 191us/step - loss: 0.3941 - acc: 0.8367\nEpoch 38/100\n8000/8000 [==============================] - 2s 191us/step - loss: 0.3941 - acc: 0.8365\nEpoch 39/100\n8000/8000 [==============================] - 2s 192us/step - loss: 0.3939 - acc: 0.8379\nEpoch 40/100\n8000/8000 [==============================] - 2s 192us/step - loss: 0.3938 - acc: 0.8379\nEpoch 41/100\n8000/8000 [==============================] - 2s 191us/step - loss: 0.3934 - acc: 0.8375\nEpoch 42/100\n8000/8000 [==============================] - 2s 190us/step - loss: 0.3935 - acc: 0.8359\nEpoch 43/100\n8000/8000 [==============================] - 1s 186us/step - loss: 0.3949 - acc: 0.8349\nEpoch 44/100\n8000/8000 [==============================] - 2s 192us/step - loss: 0.3936 - acc: 0.8356\nEpoch 45/100\n8000/8000 [==============================] - 2s 194us/step - loss: 0.3939 - acc: 0.8370\nEpoch 46/100\n8000/8000 [==============================] - 2s 192us/step - loss: 0.3941 - acc: 0.8376\nEpoch 47/100\n8000/8000 [==============================] - 1s 180us/step - loss: 0.3941 - acc: 0.8367\nEpoch 48/100\n8000/8000 [==============================] - 2s 192us/step - loss: 0.3937 - acc: 0.8384\nEpoch 49/100\n8000/8000 [==============================] - 2s 190us/step - loss: 0.3935 - acc: 0.8346\nEpoch 50/100\n8000/8000 [==============================] - 2s 191us/step - loss: 0.3939 - acc: 0.8371\nEpoch 51/100\n8000/8000 [==============================] - 2s 197us/step - loss: 0.3936 - acc: 0.8375\nEpoch 52/100\n8000/8000 [==============================] - 2s 191us/step - loss: 0.3937 - acc: 0.8367\nEpoch 53/100\n8000/8000 [==============================] - 2s 204us/step - loss: 0.3932 - acc: 0.8384\nEpoch 54/100\n8000/8000 [==============================] - 2s 198us/step - loss: 0.3938 - acc: 0.8364\nEpoch 55/100\n8000/8000 [==============================] - 2s 199us/step - loss: 0.3937 - acc: 0.8387\nEpoch 56/100\n8000/8000 [==============================] - 2s 198us/step - loss: 0.3932 - acc: 0.8370\nEpoch 57/100\n8000/8000 [==============================] - 2s 198us/step - loss: 0.3937 - acc: 0.8392\nEpoch 58/100\n8000/8000 [==============================] - 2s 201us/step - loss: 0.3927 - acc: 0.8382\nEpoch 59/100\n8000/8000 [==============================] - 2s 203us/step - loss: 0.3929 - acc: 0.8371\nEpoch 60/100\n8000/8000 [==============================] - 2s 199us/step - loss: 0.3933 - acc: 0.8387\nEpoch 61/100\n8000/8000 [==============================] - 2s 195us/step - loss: 0.3930 - acc: 0.8381\nEpoch 62/100\n8000/8000 [==============================] - 2s 191us/step - loss: 0.3924 - acc: 0.8392\nEpoch 63/100\n8000/8000 [==============================] - 2s 192us/step - loss: 0.3932 - acc: 0.8382\nEpoch 64/100\n8000/8000 [==============================] - 2s 194us/step - loss: 0.3925 - acc: 0.8386\nEpoch 65/100\n8000/8000 [==============================] - 2s 194us/step - loss: 0.3920 - acc: 0.8385\nEpoch 66/100\n8000/8000 [==============================] - 1s 187us/step - loss: 0.3916 - acc: 0.8397\nEpoch 67/100\n8000/8000 [==============================] - 2s 195us/step - loss: 0.3900 - acc: 0.8391\nEpoch 68/100\n8000/8000 [==============================] - 2s 193us/step - loss: 0.3883 - acc: 0.8392\nEpoch 69/100\n8000/8000 [==============================] - 2s 194us/step - loss: 0.3864 - acc: 0.8394\nEpoch 70/100\n8000/8000 [==============================] - 2s 192us/step - loss: 0.3823 - acc: 0.8365\nEpoch 71/100\n8000/8000 [==============================] - 2s 191us/step - loss: 0.3793 - acc: 0.8367\nEpoch 72/100\n8000/8000 [==============================] - 2s 190us/step - loss: 0.3753 - acc: 0.8371\nEpoch 73/100\n8000/8000 [==============================] - 2s 191us/step - loss: 0.3717 - acc: 0.8409\nEpoch 74/100\n8000/8000 [==============================] - 2s 193us/step - loss: 0.3691 - acc: 0.8452\nEpoch 75/100\n8000/8000 [==============================] - 2s 191us/step - loss: 0.3670 - acc: 0.8471\nEpoch 76/100\n8000/8000 [==============================] - 2s 195us/step - loss: 0.3640 - acc: 0.8486\nEpoch 77/100\n8000/8000 [==============================] - 2s 191us/step - loss: 0.3625 - acc: 0.8511\nEpoch 78/100\n8000/8000 [==============================] - 2s 190us/step - loss: 0.3589 - acc: 0.8541\nEpoch 79/100\n8000/8000 [==============================] - 2s 190us/step - loss: 0.3574 - acc: 0.8565\nEpoch 80/100\n8000/8000 [==============================] - 2s 189us/step - loss: 0.3555 - acc: 0.8557\nEpoch 81/100\n8000/8000 [==============================] - 2s 190us/step - loss: 0.3542 - acc: 0.8555\nEpoch 82/100\n8000/8000 [==============================] - 2s 195us/step - loss: 0.3532 - acc: 0.8575\nEpoch 83/100\n8000/8000 [==============================] - 2s 195us/step - loss: 0.3521 - acc: 0.8596\nEpoch 84/100\n8000/8000 [==============================] - 2s 199us/step - loss: 0.3514 - acc: 0.8599\nEpoch 85/100\n8000/8000 [==============================] - 2s 198us/step - loss: 0.3506 - acc: 0.8610\nEpoch 86/100\n8000/8000 [==============================] - 2s 194us/step - loss: 0.3502 - acc: 0.8609\nEpoch 87/100\n8000/8000 [==============================] - 2s 195us/step - loss: 0.3499 - acc: 0.8634\nEpoch 88/100\n8000/8000 [==============================] - 2s 189us/step - loss: 0.3493 - acc: 0.8622\nEpoch 89/100\n8000/8000 [==============================] - 2s 192us/step - loss: 0.3484 - acc: 0.8591\nEpoch 90/100\n8000/8000 [==============================] - 2s 196us/step - loss: 0.3483 - acc: 0.8612\nEpoch 91/100\n8000/8000 [==============================] - 2s 193us/step - loss: 0.3476 - acc: 0.8630\nEpoch 92/100\n8000/8000 [==============================] - 2s 188us/step - loss: 0.3464 - acc: 0.8630\nEpoch 93/100\n8000/8000 [==============================] - 2s 203us/step - loss: 0.3471 - acc: 0.8651\nEpoch 94/100\n8000/8000 [==============================] - 2s 203us/step - loss: 0.3466 - acc: 0.8597\nEpoch 95/100\n8000/8000 [==============================] - 2s 207us/step - loss: 0.3464 - acc: 0.8625\nEpoch 96/100\n8000/8000 [==============================] - 2s 200us/step - loss: 0.3459 - acc: 0.8619\nEpoch 97/100\n8000/8000 [==============================] - 2s 200us/step - loss: 0.3468 - acc: 0.8631\nEpoch 98/100\n8000/8000 [==============================] - 2s 202us/step - loss: 0.3459 - acc: 0.8596\nEpoch 99/100\n8000/8000 [==============================] - 2s 204us/step - loss: 0.3457 - acc: 0.8614\nEpoch 100/100\n8000/8000 [==============================] - 2s 204us/step - loss: 0.3452 - acc: 0.8622\n"
        },
        {
          "data": {
            "text/plain": "<keras.callbacks.History at 0x7f406851bf98>"
          },
          "execution_count": 18,
          "metadata": {},
          "output_type": "execute_result"
        }
      ]
    },
    {
      "metadata": {
        "_cell_guid": "e4bc3339-634c-4343-9bf3-e5fe86be5b21",
        "_uuid": "05146ba8ae06c97f679d19c7785e34fc301a4146"
      },
      "cell_type": "markdown",
      "source": "The output network should converge to an accuracy of 86%\n## Testing the ANN\n### Predicting the Test set results\n\nThis shows the probability of a customer leaving given the testing data. Each row in X_test corresponds to a row in Y_test"
    },
    {
      "metadata": {
        "_cell_guid": "b8414c74-b1d9-4171-9f01-6b1b2d642c0e",
        "_uuid": "c6f9748ac1c12e6786615c664e4fae7d34238dd5",
        "trusted": true
      },
      "cell_type": "code",
      "source": "y_pred = classifier.predict(X_test)\nprint(y_pred)",
      "execution_count": 19,
      "outputs": [
        {
          "name": "stdout",
          "output_type": "stream",
          "text": "[[0.26304558]\n [0.38565227]\n [0.16946644]\n ...\n [0.1925969 ]\n [0.23806769]\n [0.16447084]]\n"
        }
      ]
    },
    {
      "metadata": {
        "_cell_guid": "dadcf0b3-ec7d-496a-b9ee-733f74d147a0",
        "_uuid": "d114142f9b8006cd824e5321d973b410cf1f8242"
      },
      "cell_type": "markdown",
      "source": "To use the confusion Matrix, we need to convert the probabilities that a customer will leave the bank into the form true or false. So we will use the cutoff value 0.5 to indicate whether they are likely to exit or not."
    },
    {
      "metadata": {
        "trusted": true,
        "_uuid": "14f1cbcf3910c6b40420f5516a716d5e68a77918"
      },
      "cell_type": "code",
      "source": "y_pred = (y_pred > 0.5)\nprint(y_pred)",
      "execution_count": 21,
      "outputs": [
        {
          "name": "stdout",
          "output_type": "stream",
          "text": "[[False]\n [False]\n [False]\n ...\n [False]\n [False]\n [False]]\n"
        }
      ]
    },
    {
      "metadata": {
        "_cell_guid": "b8881ad3-48e7-431b-a542-94cd2660cfbd",
        "_uuid": "6237093831507136636bade49c4349277ab63c6a"
      },
      "cell_type": "markdown",
      "source": "### Making the Confusion Matrix"
    },
    {
      "metadata": {
        "_cell_guid": "358df9a9-dade-46b7-a9bc-dafc280a7adc",
        "_uuid": "f436bf213e921eb5b6737fcd7eb1b4224fe34426",
        "trusted": true
      },
      "cell_type": "code",
      "source": "from sklearn.metrics import confusion_matrix\ncm = confusion_matrix(y_test, y_pred)\nprint(cm)",
      "execution_count": 23,
      "outputs": [
        {
          "name": "stdout",
          "output_type": "stream",
          "text": "[[1504   91]\n [ 184  221]]\n"
        }
      ]
    },
    {
      "metadata": {
        "_uuid": "56a6b704d580d6cd00a33a2cc22848beb48925ab"
      },
      "cell_type": "markdown",
      "source": "### Significance of the confusion matrix value:\n\nThe output should be close to the table below:\n\n||Predicted: No |Predicted: Yes|\n |------| |------|   |------|  \n |Actual: No|1504|91|\n|Actual: Yes|184|221\n"
    },
    {
      "metadata": {
        "_uuid": "c14197fae0ea02eefd837b2bcef7e4aa84a02516"
      },
      "cell_type": "markdown",
      "source": "This means that we should have about $(1504 + 221) = 1726$ correct classifications out of our total testing data size of $2000$.\nThis means that our accuracy for this trial was $1726 \\div 2000 = 86.3\\%$, which matches the classifier's prediction"
    },
    {
      "metadata": {
        "trusted": true,
        "_uuid": "b56914f16beb2e28a36e6b0d4eea01311f7f8142"
      },
      "cell_type": "code",
      "source": "print (((cm[0][0]+cm[1][1])*100)/(cm[0][0]+cm[1][1]+cm[0][1]+cm[1][0]), '% of testing data was classified correctly')",
      "execution_count": 27,
      "outputs": [
        {
          "name": "stdout",
          "output_type": "stream",
          "text": "86.25 % of testing data was classified correctly\n"
        }
      ]
    }
  ],
  "metadata": {
    "kernelspec": {
      "display_name": "Python 3",
      "language": "python",
      "name": "python3"
    },
    "language_info": {
      "name": "python",
      "version": "3.6.4",
      "mimetype": "text/x-python",
      "codemirror_mode": {
        "name": "ipython",
        "version": 3
      },
      "pygments_lexer": "ipython3",
      "nbconvert_exporter": "python",
      "file_extension": ".py"
    }
  },
  "nbformat": 4,
  "nbformat_minor": 1
}