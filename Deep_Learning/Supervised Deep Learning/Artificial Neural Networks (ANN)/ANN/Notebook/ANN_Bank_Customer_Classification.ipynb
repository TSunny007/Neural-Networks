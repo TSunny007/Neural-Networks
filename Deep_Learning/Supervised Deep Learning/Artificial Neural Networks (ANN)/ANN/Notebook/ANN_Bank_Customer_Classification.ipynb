{
 "cells": [
  {
   "cell_type": "markdown",
   "metadata": {
    "_uuid": "e20f9fc084c0821a13614955c40f77934d2b1552"
   },
   "source": [
    "# Bank Customer Classification\n",
    "## Given a dataset consisiting of Bank Customer information, we are asked to build a classifier which will tell us if a customer will exit the bank or not."
   ]
  },
  {
   "cell_type": "code",
   "execution_count": 1,
   "metadata": {
    "_cell_guid": "b1076dfc-b9ad-4769-8c92-a6c4dae69d19",
    "_uuid": "8f2839f25d086af736a60e9eeb907d3b93b6e0e5"
   },
   "outputs": [
    {
     "name": "stdout",
     "output_type": "stream",
     "text": [
      "['.DS_Store', 'Churn_Modelling.csv']\n"
     ]
    }
   ],
   "source": [
    "import theano\n",
    "import tensorflow\n",
    "import numpy as np\n",
    "import matplotlib.pyplot as plt\n",
    "import pandas as pd\n",
    "\n",
    "import os\n",
    "print(os.listdir(\"../input\"))"
   ]
  },
  {
   "cell_type": "markdown",
   "metadata": {
    "_cell_guid": "191e6ef1-260f-4f3e-822c-92397b6cc5df",
    "_uuid": "a91e1f7964773655b9aaa13dd53676680ccfb47d"
   },
   "source": [
    "# Data Preprocessing "
   ]
  },
  {
   "cell_type": "markdown",
   "metadata": {
    "_uuid": "898e9f9232897e1355dce2e85551a4592d512f7d"
   },
   "source": [
    "### In this dataset, we have to consider which of the factors may play a role in someone exiting a bank. To do that we must look at all  the column and infer whether it will matter in classifying a new customer or not.  The information about a customer is entailed in columns 0 through 12 (`EstimatedSalary`), while the output (whether the customer exited or not) is stored in the 13th row (`Exited`). "
   ]
  },
  {
   "cell_type": "code",
   "execution_count": 2,
   "metadata": {
    "_cell_guid": "79c7e3d0-c299-4dcb-8224-4455121ee9b0",
    "_uuid": "d629ff2d2480ee46fbb7e2d37f6b5fab8052498a"
   },
   "outputs": [
    {
     "data": {
      "text/html": [
       "<div>\n",
       "<style scoped>\n",
       "    .dataframe tbody tr th:only-of-type {\n",
       "        vertical-align: middle;\n",
       "    }\n",
       "\n",
       "    .dataframe tbody tr th {\n",
       "        vertical-align: top;\n",
       "    }\n",
       "\n",
       "    .dataframe thead th {\n",
       "        text-align: right;\n",
       "    }\n",
       "</style>\n",
       "<table border=\"1\" class=\"dataframe\">\n",
       "  <thead>\n",
       "    <tr style=\"text-align: right;\">\n",
       "      <th></th>\n",
       "      <th>RowNumber</th>\n",
       "      <th>CustomerId</th>\n",
       "      <th>Surname</th>\n",
       "      <th>CreditScore</th>\n",
       "      <th>Geography</th>\n",
       "      <th>Gender</th>\n",
       "      <th>Age</th>\n",
       "      <th>Tenure</th>\n",
       "      <th>Balance</th>\n",
       "      <th>NumOfProducts</th>\n",
       "      <th>HasCrCard</th>\n",
       "      <th>IsActiveMember</th>\n",
       "      <th>EstimatedSalary</th>\n",
       "      <th>Exited</th>\n",
       "    </tr>\n",
       "  </thead>\n",
       "  <tbody>\n",
       "    <tr>\n",
       "      <th>0</th>\n",
       "      <td>1</td>\n",
       "      <td>15634602</td>\n",
       "      <td>Hargrave</td>\n",
       "      <td>619</td>\n",
       "      <td>France</td>\n",
       "      <td>Female</td>\n",
       "      <td>42</td>\n",
       "      <td>2</td>\n",
       "      <td>0.00</td>\n",
       "      <td>1</td>\n",
       "      <td>1</td>\n",
       "      <td>1</td>\n",
       "      <td>101348.88</td>\n",
       "      <td>1</td>\n",
       "    </tr>\n",
       "    <tr>\n",
       "      <th>1</th>\n",
       "      <td>2</td>\n",
       "      <td>15647311</td>\n",
       "      <td>Hill</td>\n",
       "      <td>608</td>\n",
       "      <td>Spain</td>\n",
       "      <td>Female</td>\n",
       "      <td>41</td>\n",
       "      <td>1</td>\n",
       "      <td>83807.86</td>\n",
       "      <td>1</td>\n",
       "      <td>0</td>\n",
       "      <td>1</td>\n",
       "      <td>112542.58</td>\n",
       "      <td>0</td>\n",
       "    </tr>\n",
       "    <tr>\n",
       "      <th>2</th>\n",
       "      <td>3</td>\n",
       "      <td>15619304</td>\n",
       "      <td>Onio</td>\n",
       "      <td>502</td>\n",
       "      <td>France</td>\n",
       "      <td>Female</td>\n",
       "      <td>42</td>\n",
       "      <td>8</td>\n",
       "      <td>159660.80</td>\n",
       "      <td>3</td>\n",
       "      <td>1</td>\n",
       "      <td>0</td>\n",
       "      <td>113931.57</td>\n",
       "      <td>1</td>\n",
       "    </tr>\n",
       "    <tr>\n",
       "      <th>3</th>\n",
       "      <td>4</td>\n",
       "      <td>15701354</td>\n",
       "      <td>Boni</td>\n",
       "      <td>699</td>\n",
       "      <td>France</td>\n",
       "      <td>Female</td>\n",
       "      <td>39</td>\n",
       "      <td>1</td>\n",
       "      <td>0.00</td>\n",
       "      <td>2</td>\n",
       "      <td>0</td>\n",
       "      <td>0</td>\n",
       "      <td>93826.63</td>\n",
       "      <td>0</td>\n",
       "    </tr>\n",
       "    <tr>\n",
       "      <th>4</th>\n",
       "      <td>5</td>\n",
       "      <td>15737888</td>\n",
       "      <td>Mitchell</td>\n",
       "      <td>850</td>\n",
       "      <td>Spain</td>\n",
       "      <td>Female</td>\n",
       "      <td>43</td>\n",
       "      <td>2</td>\n",
       "      <td>125510.82</td>\n",
       "      <td>1</td>\n",
       "      <td>1</td>\n",
       "      <td>1</td>\n",
       "      <td>79084.10</td>\n",
       "      <td>0</td>\n",
       "    </tr>\n",
       "  </tbody>\n",
       "</table>\n",
       "</div>"
      ],
      "text/plain": [
       "   RowNumber  CustomerId   Surname  CreditScore Geography  Gender  Age  \\\n",
       "0          1    15634602  Hargrave          619    France  Female   42   \n",
       "1          2    15647311      Hill          608     Spain  Female   41   \n",
       "2          3    15619304      Onio          502    France  Female   42   \n",
       "3          4    15701354      Boni          699    France  Female   39   \n",
       "4          5    15737888  Mitchell          850     Spain  Female   43   \n",
       "\n",
       "   Tenure    Balance  NumOfProducts  HasCrCard  IsActiveMember  \\\n",
       "0       2       0.00              1          1               1   \n",
       "1       1   83807.86              1          0               1   \n",
       "2       8  159660.80              3          1               0   \n",
       "3       1       0.00              2          0               0   \n",
       "4       2  125510.82              1          1               1   \n",
       "\n",
       "   EstimatedSalary  Exited  \n",
       "0        101348.88       1  \n",
       "1        112542.58       0  \n",
       "2        113931.57       1  \n",
       "3         93826.63       0  \n",
       "4         79084.10       0  "
      ]
     },
     "execution_count": 2,
     "metadata": {},
     "output_type": "execute_result"
    }
   ],
   "source": [
    "#importing the dataset\n",
    "dataset = pd.read_csv('../input/Churn_Modelling.csv')\n",
    "dataset.head()"
   ]
  },
  {
   "cell_type": "markdown",
   "metadata": {},
   "source": [
    "For as much as we care, neither the `CustomerID`, nor the `Surname` should matter in classification. \n",
    "Therefore, we will use columns 3 (`CreditScore`) inclusive through the 12th column (`EstimatedSalary`)."
   ]
  },
  {
   "cell_type": "code",
   "execution_count": 3,
   "metadata": {},
   "outputs": [
    {
     "data": {
      "text/plain": [
       "Index(['RowNumber', 'CustomerId', 'Surname', 'CreditScore', 'Geography',\n",
       "       'Gender', 'Age', 'Tenure', 'Balance', 'NumOfProducts', 'HasCrCard',\n",
       "       'IsActiveMember', 'EstimatedSalary', 'Exited'],\n",
       "      dtype='object')"
      ]
     },
     "execution_count": 3,
     "metadata": {},
     "output_type": "execute_result"
    }
   ],
   "source": [
    "dataset.columns"
   ]
  },
  {
   "cell_type": "code",
   "execution_count": 7,
   "metadata": {},
   "outputs": [],
   "source": [
    "X = dataset.loc[:,'CreditScore':'EstimatedSalary'].values # Credit Score through Estimated Salary\n",
    "y = dataset.loc[:, 'Exited'].values # Exited"
   ]
  },
  {
   "cell_type": "code",
   "execution_count": 9,
   "metadata": {
    "_cell_guid": "4a8358b6-15f3-447a-b7ca-84b1260be431",
    "_uuid": "6ead7a5a9bd53033a6e2d72ee0d04c102ac62547"
   },
   "outputs": [
    {
     "name": "stdout",
     "output_type": "stream",
     "text": [
      "['France' 'Spain' 'France' 'France' 'Spain' 'Spain' 'France' 'Germany'] ... will now become: \n",
      "[0 2 0 0 2 2 0 1]\n"
     ]
    }
   ],
   "source": [
    "# Encoding categorical (string based) data. Country: there are 3 options: France, Spain and Germany\n",
    "# This will convert those strings into scalar values for analysis\n",
    "print(X[:8,1], '... will now become: ')\n",
    "from sklearn.preprocessing import LabelEncoder, OneHotEncoder\n",
    "label_X_country_encoder = LabelEncoder()\n",
    "X[:,1] = label_X_country_encoder.fit_transform(X[:,1]) #The column of country\n",
    "print(X[:8,1])"
   ]
  },
  {
   "cell_type": "markdown",
   "metadata": {
    "_cell_guid": "6958b07a-5e29-403d-9d60-c08d97e05a51",
    "_uuid": "bb22f8944d080dcbd92a885f7ce59803bc16f61e"
   },
   "source": [
    "| Country |  -> | Country|\n",
    "|------|      |------|  |------|    \n",
    "|   Spain |   -> |0|\n",
    "|   France | -> |1|\n",
    "|   France | ->  |1|\n",
    "|   Germany | -> |2|"
   ]
  },
  {
   "cell_type": "code",
   "execution_count": 10,
   "metadata": {
    "_cell_guid": "50bb2761-7b6f-4612-978b-250bc52a7707",
    "_uuid": "faf9d15f5568ebbaf1473a5341a7b38251d314c7"
   },
   "outputs": [
    {
     "name": "stdout",
     "output_type": "stream",
     "text": [
      "['Female' 'Female' 'Female' 'Female' 'Female' 'Male'] ... will now become: \n",
      "[0 0 0 0 0 1]\n"
     ]
    }
   ],
   "source": [
    "# We will do the same thing for gender. this will be binary in this dataset\n",
    "print(X[:6,2], '... will now become: ')\n",
    "from sklearn.preprocessing import LabelEncoder, OneHotEncoder\n",
    "label_X_gender_encoder = LabelEncoder()\n",
    "X[:,2] = label_X_gender_encoder.fit_transform(X[:,2])\n",
    "print(X[:6,2])"
   ]
  },
  {
   "cell_type": "markdown",
   "metadata": {},
   "source": [
    "The Problem here is that we are treating the countries as one variable with ordinal values (0 < 1 <  2). Therefore, one way to get rid of that problem is to split the countries into respective dimensions. that is,\n",
    "\n",
    "| Country |  -> | Country|-> |Spain|France|Germany|\n",
    "|------|      |------|  |------|    |------|    |------|\n",
    "|   Spain |   -> |0| -> |1|0|0|\n",
    "|   France | -> |1| -> |0|1|0|\n",
    "|   France | ->  |1| -> |0|1|0|\n",
    "|   Germany | -> |2| -> |0|0|1|"
   ]
  },
  {
   "cell_type": "code",
   "execution_count": 11,
   "metadata": {
    "_cell_guid": "7919a746-8eb9-4d5f-967f-d3e513320a93",
    "_uuid": "9334654d846ed1d7c86b17c5cda8fd43ba193a62"
   },
   "outputs": [],
   "source": [
    "# Converting the string features into their own dimensions. Gender doesn't matter here because its binary\n",
    "countryhotencoder = OneHotEncoder(categorical_features = [1]) # 1 is the country column\n",
    "X = countryhotencoder.fit_transform(X).toarray()"
   ]
  },
  {
   "cell_type": "markdown",
   "metadata": {
    "_cell_guid": "fd292a3a-af3a-4e01-a6a3-0f4f9e4eaa3e",
    "_uuid": "4a096f238a4c58f81f6e975cfbbfbafe81394bba"
   },
   "source": [
    "Gender doesn't need to go through Encoding because it is binary"
   ]
  },
  {
   "cell_type": "code",
   "execution_count": 12,
   "metadata": {
    "_cell_guid": "1da47322-1623-4c4f-8328-a45e137b9d55",
    "_uuid": "2cf8373049650db015e6514cc53df8199ee8be6c"
   },
   "outputs": [
    {
     "data": {
      "text/plain": [
       "array([[1., 0., 0.],\n",
       "       [0., 0., 1.],\n",
       "       [1., 0., 0.],\n",
       "       ...,\n",
       "       [1., 0., 0.],\n",
       "       [0., 1., 0.],\n",
       "       [1., 0., 0.]])"
      ]
     },
     "execution_count": 12,
     "metadata": {},
     "output_type": "execute_result"
    }
   ],
   "source": [
    "X[:,0:3]"
   ]
  },
  {
   "cell_type": "markdown",
   "metadata": {
    "_cell_guid": "6f5ab21e-bc4c-4d23-8124-b7fbde15295a",
    "_uuid": "134720c31d216016bb6093571ca1cf08e49f0014"
   },
   "source": [
    "You can now see that the first three columns represent the three countries that constituted the \"country\" category. We can now observe that  we essentially only need two columns: a 0 on two countries means that the country has to be the one variable which wasn't included. This will save us from the problem of using too many dimensions\n",
    "\n",
    "|Spain|France|Germany|-> |France|Germany|\n",
    " |------|    |------|    |------|     |------|     |------|\n",
    " |1|0|0|-> |0|0|\n",
    "|0|1|0|-> |1|0|\n",
    "|0|1|0|-> |1|0|\n",
    "|0|0|1|-> |0|1|"
   ]
  },
  {
   "cell_type": "code",
   "execution_count": 13,
   "metadata": {
    "_cell_guid": "519c673a-19a4-43a9-8a52-f8d7fc2cd854",
    "_uuid": "43a5f7db6a5972cf3aa22ee84286d16871410113"
   },
   "outputs": [],
   "source": [
    "X = X[:,1:] # Got rid of Spain as a dimension. It is still there through our inferences"
   ]
  },
  {
   "cell_type": "code",
   "execution_count": 30,
   "metadata": {
    "_cell_guid": "94dc69ae-e276-4ab8-9d42-89360e0f7ebb",
    "_uuid": "b2608c0cb6e23abc91618d95ed9a06c1c0195c08"
   },
   "outputs": [],
   "source": [
    "# Splitting the dataset into the Training and Testing set.\n",
    "from sklearn.model_selection import train_test_split\n",
    "X_train, X_test, y_train, y_test = train_test_split(X,y, test_size = 0.2, random_state = 0)"
   ]
  },
  {
   "cell_type": "markdown",
   "metadata": {
    "_cell_guid": "19c34bde-4901-4116-81b5-0b2699cc8edc",
    "_uuid": "baee254e5d7c52966a84ad53aa890b1b0c548436"
   },
   "source": [
    "Feature scaling is a method used to standardize the range of independent variables or features of data. It is basically scaling all the dimensions to be even so that one independent variable does not dominate another. For example, bank account balance ranges from millions to 0, whereas gender is either 0 or 1. If one of the features has a broad range of values, the distance will be governed by this particular feature. Therefore, the range of all features should be normalized so that each feature contributes approximately proportionately to the final distance."
   ]
  },
  {
   "cell_type": "code",
   "execution_count": 31,
   "metadata": {
    "_cell_guid": "0d825f73-80a2-4b55-8c5d-1546055c0ade",
    "_uuid": "eb0f062f80060a4a608cebb1db7e08cb48d3c6d1"
   },
   "outputs": [],
   "source": [
    "# Feature Scaling\n",
    "from sklearn.preprocessing import StandardScaler\n",
    "sc=StandardScaler()\n",
    "X_train = sc.fit_transform(X_train)\n",
    "X_test = sc.transform(X_test)"
   ]
  },
  {
   "cell_type": "code",
   "execution_count": 32,
   "metadata": {
    "_cell_guid": "a96ac596-f07b-451c-a7aa-f98dc29bba81",
    "_uuid": "00892464955a6ad79489335772ae7fbe2471ac2c"
   },
   "outputs": [
    {
     "data": {
      "text/plain": [
       "array([[-0.5698444 ,  1.74309049,  0.16958176, ...,  0.64259497,\n",
       "        -1.03227043,  1.10643166],\n",
       "       [ 1.75486502, -0.57369368, -2.30455945, ...,  0.64259497,\n",
       "         0.9687384 , -0.74866447],\n",
       "       [-0.5698444 , -0.57369368, -1.19119591, ...,  0.64259497,\n",
       "        -1.03227043,  1.48533467],\n",
       "       ...,\n",
       "       [-0.5698444 , -0.57369368,  0.9015152 , ...,  0.64259497,\n",
       "        -1.03227043,  1.41231994],\n",
       "       [-0.5698444 ,  1.74309049, -0.62420521, ...,  0.64259497,\n",
       "         0.9687384 ,  0.84432121],\n",
       "       [ 1.75486502, -0.57369368, -0.28401079, ...,  0.64259497,\n",
       "        -1.03227043,  0.32472465]])"
      ]
     },
     "execution_count": 32,
     "metadata": {},
     "output_type": "execute_result"
    }
   ],
   "source": [
    "X_train"
   ]
  },
  {
   "cell_type": "markdown",
   "metadata": {
    "_cell_guid": "3aab87d5-3ff3-4d4e-8a32-b7aa25f68a8f",
    "_uuid": "b3fa3ccbeac661426e3d06ed7dde162e4c33a5b5"
   },
   "source": [
    "## END OF PREPROCESSING"
   ]
  },
  {
   "cell_type": "markdown",
   "metadata": {
    "_cell_guid": "f8496b20-efff-48a4-8649-e6b60ac2e87b",
    "_uuid": "219c2ec9230ef437b87cd0ec5ffe5eece2843874"
   },
   "source": [
    "## Making the ANN"
   ]
  },
  {
   "cell_type": "code",
   "execution_count": 33,
   "metadata": {
    "_cell_guid": "e7845543-59c2-4802-b1fe-5096ad992fff",
    "_uuid": "8b166bec6c562467764525aa25e1b1478c04a7e3"
   },
   "outputs": [],
   "source": [
    "import keras # Test out Theano when time permits as well"
   ]
  },
  {
   "cell_type": "code",
   "execution_count": 34,
   "metadata": {
    "_cell_guid": "9c95c5f3-117b-47ad-86e2-327cebb8db42",
    "_uuid": "7cd3ececc193a95174a8d5efff01468336951441"
   },
   "outputs": [],
   "source": [
    "from keras.models import Sequential\n",
    "from keras.layers import Dense"
   ]
  },
  {
   "cell_type": "code",
   "execution_count": 35,
   "metadata": {
    "_cell_guid": "477c2dd7-8267-4c0d-98d0-65483cfc47c0",
    "_uuid": "842944c858018351df27d454c03fe3bc3c3498c7"
   },
   "outputs": [],
   "source": [
    "# Initializing the ANN\n",
    "classifier = Sequential()"
   ]
  },
  {
   "cell_type": "markdown",
   "metadata": {
    "_cell_guid": "9a0c46ca-2e44-45bc-a48c-870f6aad0d0e",
    "_uuid": "a9c849675833548a819cf26298658158e844de59"
   },
   "source": [
    "A hurestic tip is that the amount of nodes (dimensions) in your hidden layer should be the average of your input and output layers, which means that since we have 11 dimensions (representing **Independent variables** Note: Countries still compose only  **one** dimension) and we are looking for a binary output, we calculate this to be $(11+1)\\div 2 = 6 $.\n",
    "\n",
    "#### The breakdown of the inputs for the first layer is as follows:\n",
    "\n",
    "*activiation*: **relu** becasue we are in an input layer. uses the ReLu activation function for $\\phi$\n",
    "\n",
    "*input_dim*: **11** because we span 11 dimensions in our input layer. This is needed for the first added layer. The subsequent layers's input dimensions can be inferred using the previously added layer's output dimension. The next hidden layer will know what to expect.\n",
    "\n",
    "*units*: **6** nodes (number of nodes in hidden layer). Can think of this as number of nodes are in the next layer.\n",
    "\n",
    "*kernel_initializer*: **uniform**  the distribution with which we randomly initialize weights for the nodes in this layer. \n",
    "\n"
   ]
  },
  {
   "cell_type": "code",
   "execution_count": 36,
   "metadata": {
    "_cell_guid": "74cbe4d8-517a-488d-92d0-71905549a062",
    "_uuid": "d714ebc59f601dd833a0eaafc6ae9a81b9f9f2d8"
   },
   "outputs": [],
   "source": [
    "# This adds the input layer (by specifying input dimension) AND the first hidden layer (units)\n",
    "classifier.add(Dense(activation = 'relu', input_dim = 11, units=6, kernel_initializer='uniform'))"
   ]
  },
  {
   "cell_type": "markdown",
   "metadata": {
    "_cell_guid": "0c30399e-24f6-44ac-b468-13ad68813a03",
    "_uuid": "47582c1198896d9c6276254440869f0ff685caa9"
   },
   "source": [
    "### We are going to add another layer to this model because we want to implement Deep Learning, which is an artificial Neural network with many layers.\n",
    "We will make our second hidden layer also have 6 nodes, just playing with the same arithmetic we used to determine the dimensions of the first hidden layer (average of your input and output layers) $(11+1)\\div 2 = 6 $."
   ]
  },
  {
   "cell_type": "code",
   "execution_count": 37,
   "metadata": {
    "_cell_guid": "4b2e774c-dfae-425d-9814-791ba9385f54",
    "_uuid": "4ee4b599740bccfd59166e6589f471c267bd3ba6"
   },
   "outputs": [],
   "source": [
    "# Adding the second hidden layer\n",
    "# Notice that we do not need to specify input dim. \n",
    "classifier.add(Dense(activation = 'relu', units=6, kernel_initializer='uniform')) "
   ]
  },
  {
   "cell_type": "markdown",
   "metadata": {
    "_cell_guid": "dcfa3079-f795-477b-a21c-e5cb3b6f0aef",
    "_uuid": "9f0c01f7d7019c1a73cb3cfe05dc03104b07fed7"
   },
   "source": [
    "### Adding the output layer\n",
    "#### The breakdown of the inputs for the output layer is as follows:\n",
    "\n",
    "*activiation*: **sigmoid** becasue we are in an output layer. uses the Sigmoid activation function for $\\phi$. This is used instead of the ReLu function becasue it generates probabilities for the outcome. We want the probability that each customer leaves the bank.  \n",
    "\n",
    "*units*: **1** nodes (number of nodes in output layer). This will be the probability that a customer leaves.\n",
    "\n",
    "*kernel_initializer*: **uniform**  the distribution with which we randomly initialize weights for the nodes in this layer. "
   ]
  },
  {
   "cell_type": "code",
   "execution_count": 38,
   "metadata": {
    "_cell_guid": "85159374-4412-4d00-8120-04e2d3797d18",
    "_uuid": "5e967723561562d1b402e531c51a9c505b3872cc"
   },
   "outputs": [],
   "source": [
    "# Adding the output layer\n",
    "# Notice that we do not need to specify input dim. \n",
    "# we have an output of 1 node, which is the the desired dimensions of our output (stay with the bank or not)\n",
    "# We use the sigmoid because we want probability outcomes\n",
    "classifier.add(Dense(activation = 'sigmoid', units=1, kernel_initializer='uniform')) "
   ]
  },
  {
   "cell_type": "markdown",
   "metadata": {
    "_cell_guid": "aeca69c0-472e-4344-8523-d5c5a4893650",
    "_uuid": "313cad84163d80c20e00eaac2d493c8eb50dab30"
   },
   "source": [
    "\n",
    "### If we want more than two categories, then we will need to change \n",
    "\n",
    " 1) the *units* parameter to match the desired category count (In this example category: \"will customer leave or not\")\n",
    " \n",
    " 2) the *activation* field to **softmax**.  Basically a sigmoid function but applied to a dependent variable that has more than 2 categories."
   ]
  },
  {
   "cell_type": "markdown",
   "metadata": {
    "_cell_guid": "ba09a55b-572d-442c-9733-724600df8f9b",
    "_uuid": "f220ac215b66c3f765d05ee1d1ac1ba51854bd5e"
   },
   "source": [
    "## Compiling the Neural Network\n",
    "Basically applying Stochastic Gradient descent on the whole Neural Network. We are Tuning the individual weights on each neuron.\n",
    "\n",
    "#### The breakdown of the inputs for compiling is as follows:\n",
    "\n",
    "*optimizer*: ** adam** The algorithm we want to use to find the optimal set of weights in the neural networks.  Adam is a very efficeint variation of Stochastic Gradient Descent.\n",
    "\n",
    "*loss*: **binary_crossentropy** This is the loss function used within adam. This should be the logarthmic loss. If our dependent (output variable) is *Binary*, it is **binary_crossentropy**. If *Categorical*, then it is called **categorical_crossentropy**\n",
    "\n",
    "*metrics*: **[accuracy]** The accuracy metrics which will be evaluated(minimized) by the model. Used as accuracy criteria to imporve model performance. \n",
    "\n",
    "*kernel_initializer*: **uniform**  the distribution with which we randomly initialize weights for the nodes in this layer. "
   ]
  },
  {
   "cell_type": "code",
   "execution_count": 39,
   "metadata": {
    "_cell_guid": "269e47c9-d147-4013-b704-3f74fd344315",
    "_uuid": "827b3e0bb61ebad44f545d74b8bc021bbca6f1b2"
   },
   "outputs": [],
   "source": [
    "classifier.compile(optimizer='adam', loss = 'binary_crossentropy', metrics=['accuracy'])"
   ]
  },
  {
   "cell_type": "markdown",
   "metadata": {
    "_cell_guid": "db47d3e6-fd4f-461d-aa7a-b743c6fcf260",
    "_uuid": "d303bdd6aeb12b5ef9bd58d7a695ecfbc66bb131"
   },
   "source": [
    "## Fitting the Neural Network\n",
    "This is where we will be fitting the ANN to our training set.\n",
    "\n",
    "#### The breakdown of the inputs for compiling is as follows:\n",
    "\n",
    "** X_train** The independent variable portion of the data which needs to be fitted with the model.\n",
    "\n",
    "** Y_train** The output portion of the data which the model needs to produce after fitting.\n",
    "\n",
    "*batch_size*:  How often we want to back-propogate the error values so that individual node weights can be adjusted. \n",
    "\n",
    "*nb_epochs*: The number of times we want to run the entire test data over again to tune the weights. This is like the fuel of the algorithm. "
   ]
  },
  {
   "cell_type": "code",
   "execution_count": 40,
   "metadata": {
    "_cell_guid": "5ab480db-3223-4577-87d9-27ab42572679",
    "_uuid": "2373dff1ff229dbe72f41418035daf29049804df"
   },
   "outputs": [
    {
     "name": "stdout",
     "output_type": "stream",
     "text": [
      "Epoch 1/100\n",
      "8000/8000 [==============================] - 2s 227us/step - loss: 0.4821 - acc: 0.7951\n",
      "Epoch 2/100\n",
      "8000/8000 [==============================] - 2s 214us/step - loss: 0.4286 - acc: 0.7960\n",
      "Epoch 3/100\n",
      "8000/8000 [==============================] - 2s 206us/step - loss: 0.4226 - acc: 0.7965\n",
      "Epoch 4/100\n",
      "8000/8000 [==============================] - 2s 201us/step - loss: 0.4190 - acc: 0.8182\n",
      "Epoch 5/100\n",
      "8000/8000 [==============================] - 2s 202us/step - loss: 0.4163 - acc: 0.8261\n",
      "Epoch 6/100\n",
      "8000/8000 [==============================] - 2s 205us/step - loss: 0.4146 - acc: 0.8299\n",
      "Epoch 7/100\n",
      "8000/8000 [==============================] - 2s 207us/step - loss: 0.4128 - acc: 0.8300\n",
      "Epoch 8/100\n",
      "8000/8000 [==============================] - 2s 203us/step - loss: 0.4119 - acc: 0.8319\n",
      "Epoch 9/100\n",
      "8000/8000 [==============================] - 2s 202us/step - loss: 0.4107 - acc: 0.8320\n",
      "Epoch 10/100\n",
      "8000/8000 [==============================] - 2s 201us/step - loss: 0.4099 - acc: 0.8330\n",
      "Epoch 11/100\n",
      "8000/8000 [==============================] - 2s 202us/step - loss: 0.4089 - acc: 0.8332\n",
      "Epoch 12/100\n",
      "8000/8000 [==============================] - 2s 203us/step - loss: 0.4087 - acc: 0.8342\n",
      "Epoch 13/100\n",
      "8000/8000 [==============================] - 2s 202us/step - loss: 0.4075 - acc: 0.8330\n",
      "Epoch 14/100\n",
      "8000/8000 [==============================] - 2s 202us/step - loss: 0.4068 - acc: 0.8339\n",
      "Epoch 15/100\n",
      "8000/8000 [==============================] - 2s 202us/step - loss: 0.4065 - acc: 0.8352\n",
      "Epoch 16/100\n",
      "8000/8000 [==============================] - 2s 202us/step - loss: 0.4061 - acc: 0.8337\n",
      "Epoch 17/100\n",
      "8000/8000 [==============================] - 2s 203us/step - loss: 0.4057 - acc: 0.8332\n",
      "Epoch 18/100\n",
      "8000/8000 [==============================] - 2s 202us/step - loss: 0.4057 - acc: 0.8352\n",
      "Epoch 19/100\n",
      "8000/8000 [==============================] - 2s 202us/step - loss: 0.4049 - acc: 0.8342\n",
      "Epoch 20/100\n",
      "8000/8000 [==============================] - 2s 202us/step - loss: 0.4046 - acc: 0.8346\n",
      "Epoch 21/100\n",
      "8000/8000 [==============================] - 2s 202us/step - loss: 0.4044 - acc: 0.8352\n",
      "Epoch 22/100\n",
      "8000/8000 [==============================] - 2s 202us/step - loss: 0.4039 - acc: 0.8337\n",
      "Epoch 23/100\n",
      "8000/8000 [==============================] - 2s 204us/step - loss: 0.4038 - acc: 0.8344\n",
      "Epoch 24/100\n",
      "8000/8000 [==============================] - 2s 203us/step - loss: 0.4039 - acc: 0.8340\n",
      "Epoch 25/100\n",
      "8000/8000 [==============================] - 2s 204us/step - loss: 0.4036 - acc: 0.8340\n",
      "Epoch 26/100\n",
      "8000/8000 [==============================] - 2s 203us/step - loss: 0.4039 - acc: 0.8346\n",
      "Epoch 27/100\n",
      "8000/8000 [==============================] - 2s 203us/step - loss: 0.4033 - acc: 0.8347\n",
      "Epoch 28/100\n",
      "8000/8000 [==============================] - 2s 203us/step - loss: 0.4034 - acc: 0.8337\n",
      "Epoch 29/100\n",
      "8000/8000 [==============================] - 2s 203us/step - loss: 0.4031 - acc: 0.8345\n",
      "Epoch 30/100\n",
      "8000/8000 [==============================] - 2s 205us/step - loss: 0.4032 - acc: 0.8341\n",
      "Epoch 31/100\n",
      "8000/8000 [==============================] - 2s 203us/step - loss: 0.4032 - acc: 0.8357\n",
      "Epoch 32/100\n",
      "8000/8000 [==============================] - 2s 204us/step - loss: 0.4025 - acc: 0.8352\n",
      "Epoch 33/100\n",
      "8000/8000 [==============================] - 2s 203us/step - loss: 0.4024 - acc: 0.8322\n",
      "Epoch 34/100\n",
      "8000/8000 [==============================] - 2s 203us/step - loss: 0.4022 - acc: 0.8341\n",
      "Epoch 35/100\n",
      "8000/8000 [==============================] - 2s 202us/step - loss: 0.4025 - acc: 0.8345\n",
      "Epoch 36/100\n",
      "8000/8000 [==============================] - 2s 205us/step - loss: 0.4020 - acc: 0.8347\n",
      "Epoch 37/100\n",
      "8000/8000 [==============================] - 2s 209us/step - loss: 0.4028 - acc: 0.8356\n",
      "Epoch 38/100\n",
      "8000/8000 [==============================] - 2s 206us/step - loss: 0.4022 - acc: 0.8360\n",
      "Epoch 39/100\n",
      "8000/8000 [==============================] - 2s 203us/step - loss: 0.4021 - acc: 0.8340\n",
      "Epoch 40/100\n",
      "8000/8000 [==============================] - 2s 203us/step - loss: 0.4023 - acc: 0.8347\n",
      "Epoch 41/100\n",
      "8000/8000 [==============================] - 2s 203us/step - loss: 0.4024 - acc: 0.8345\n",
      "Epoch 42/100\n",
      "8000/8000 [==============================] - 2s 204us/step - loss: 0.4023 - acc: 0.8339\n",
      "Epoch 43/100\n",
      "8000/8000 [==============================] - 2s 203us/step - loss: 0.4020 - acc: 0.8359\n",
      "Epoch 44/100\n",
      "8000/8000 [==============================] - 2s 205us/step - loss: 0.4018 - acc: 0.8337\n",
      "Epoch 45/100\n",
      "8000/8000 [==============================] - 2s 204us/step - loss: 0.4023 - acc: 0.8349\n",
      "Epoch 46/100\n",
      "8000/8000 [==============================] - 2s 203us/step - loss: 0.4020 - acc: 0.8341\n",
      "Epoch 47/100\n",
      "8000/8000 [==============================] - 2s 203us/step - loss: 0.4021 - acc: 0.8354\n",
      "Epoch 48/100\n",
      "8000/8000 [==============================] - 2s 206us/step - loss: 0.4016 - acc: 0.8347\n",
      "Epoch 49/100\n",
      "8000/8000 [==============================] - 2s 204us/step - loss: 0.4014 - acc: 0.8351\n",
      "Epoch 50/100\n",
      "8000/8000 [==============================] - 2s 204us/step - loss: 0.4008 - acc: 0.8336\n",
      "Epoch 51/100\n",
      "8000/8000 [==============================] - 2s 204us/step - loss: 0.4016 - acc: 0.8362\n",
      "Epoch 52/100\n",
      "8000/8000 [==============================] - 2s 204us/step - loss: 0.4019 - acc: 0.8337\n",
      "Epoch 53/100\n",
      "8000/8000 [==============================] - 2s 203us/step - loss: 0.4014 - acc: 0.8355\n",
      "Epoch 54/100\n",
      "8000/8000 [==============================] - 2s 202us/step - loss: 0.4014 - acc: 0.8324\n",
      "Epoch 55/100\n",
      "8000/8000 [==============================] - 2s 202us/step - loss: 0.4011 - acc: 0.8346\n",
      "Epoch 56/100\n",
      "8000/8000 [==============================] - 2s 202us/step - loss: 0.4019 - acc: 0.8352\n",
      "Epoch 57/100\n",
      "8000/8000 [==============================] - 2s 201us/step - loss: 0.4008 - acc: 0.8355\n",
      "Epoch 58/100\n",
      "8000/8000 [==============================] - 2s 202us/step - loss: 0.4014 - acc: 0.8351\n",
      "Epoch 59/100\n",
      "8000/8000 [==============================] - 2s 202us/step - loss: 0.4014 - acc: 0.8331\n",
      "Epoch 60/100\n",
      "8000/8000 [==============================] - 2s 202us/step - loss: 0.4013 - acc: 0.8362\n",
      "Epoch 61/100\n",
      "8000/8000 [==============================] - 2s 202us/step - loss: 0.4012 - acc: 0.8356\n",
      "Epoch 62/100\n",
      "8000/8000 [==============================] - 2s 201us/step - loss: 0.4012 - acc: 0.8351\n",
      "Epoch 63/100\n",
      "8000/8000 [==============================] - 2s 204us/step - loss: 0.4012 - acc: 0.8340\n",
      "Epoch 64/100\n",
      "8000/8000 [==============================] - 2s 213us/step - loss: 0.4013 - acc: 0.8340\n",
      "Epoch 65/100\n",
      "8000/8000 [==============================] - 2s 215us/step - loss: 0.4008 - acc: 0.8349\n",
      "Epoch 66/100\n",
      "8000/8000 [==============================] - 2s 203us/step - loss: 0.4014 - acc: 0.8336\n",
      "Epoch 67/100\n",
      "8000/8000 [==============================] - 2s 203us/step - loss: 0.4007 - acc: 0.8342\n",
      "Epoch 68/100\n",
      "8000/8000 [==============================] - 2s 202us/step - loss: 0.4009 - acc: 0.8341\n",
      "Epoch 69/100\n",
      "8000/8000 [==============================] - 2s 202us/step - loss: 0.4011 - acc: 0.8344\n",
      "Epoch 70/100\n",
      "8000/8000 [==============================] - 2s 202us/step - loss: 0.4006 - acc: 0.8352\n",
      "Epoch 71/100\n",
      "8000/8000 [==============================] - 2s 202us/step - loss: 0.4005 - acc: 0.8339\n",
      "Epoch 72/100\n",
      "8000/8000 [==============================] - 2s 202us/step - loss: 0.4009 - acc: 0.8327\n",
      "Epoch 73/100\n",
      "8000/8000 [==============================] - 2s 203us/step - loss: 0.4005 - acc: 0.8345\n",
      "Epoch 74/100\n",
      "8000/8000 [==============================] - 2s 202us/step - loss: 0.4007 - acc: 0.8347\n",
      "Epoch 75/100\n",
      "8000/8000 [==============================] - 2s 202us/step - loss: 0.4005 - acc: 0.8355\n",
      "Epoch 76/100\n",
      "8000/8000 [==============================] - 2s 202us/step - loss: 0.4004 - acc: 0.8337\n",
      "Epoch 77/100\n",
      "8000/8000 [==============================] - 2s 202us/step - loss: 0.4004 - acc: 0.8345\n",
      "Epoch 78/100\n",
      "8000/8000 [==============================] - 2s 202us/step - loss: 0.4008 - acc: 0.8351\n",
      "Epoch 79/100\n",
      "8000/8000 [==============================] - 2s 203us/step - loss: 0.4007 - acc: 0.8344\n",
      "Epoch 80/100\n",
      "8000/8000 [==============================] - 2s 202us/step - loss: 0.4001 - acc: 0.8350\n",
      "Epoch 81/100\n",
      "8000/8000 [==============================] - 2s 204us/step - loss: 0.4007 - acc: 0.8339\n",
      "Epoch 82/100\n"
     ]
    },
    {
     "name": "stdout",
     "output_type": "stream",
     "text": [
      "8000/8000 [==============================] - 2s 202us/step - loss: 0.4002 - acc: 0.8337\n",
      "Epoch 83/100\n",
      "8000/8000 [==============================] - 2s 201us/step - loss: 0.4003 - acc: 0.8331\n",
      "Epoch 84/100\n",
      "8000/8000 [==============================] - 2s 202us/step - loss: 0.4007 - acc: 0.8351\n",
      "Epoch 85/100\n",
      "8000/8000 [==============================] - 2s 202us/step - loss: 0.4004 - acc: 0.8352\n",
      "Epoch 86/100\n",
      "8000/8000 [==============================] - 2s 202us/step - loss: 0.4005 - acc: 0.8339\n",
      "Epoch 87/100\n",
      "8000/8000 [==============================] - 2s 201us/step - loss: 0.4008 - acc: 0.8347\n",
      "Epoch 88/100\n",
      "8000/8000 [==============================] - 2s 201us/step - loss: 0.4010 - acc: 0.8347\n",
      "Epoch 89/100\n",
      "8000/8000 [==============================] - 2s 202us/step - loss: 0.4006 - acc: 0.8349\n",
      "Epoch 90/100\n",
      "8000/8000 [==============================] - 2s 201us/step - loss: 0.4006 - acc: 0.8347\n",
      "Epoch 91/100\n",
      "8000/8000 [==============================] - 2s 202us/step - loss: 0.4004 - acc: 0.8347\n",
      "Epoch 92/100\n",
      "8000/8000 [==============================] - 2s 202us/step - loss: 0.4005 - acc: 0.8331\n",
      "Epoch 93/100\n",
      "8000/8000 [==============================] - 2s 201us/step - loss: 0.4004 - acc: 0.8347\n",
      "Epoch 94/100\n",
      "8000/8000 [==============================] - 2s 201us/step - loss: 0.4002 - acc: 0.8359\n",
      "Epoch 95/100\n",
      "8000/8000 [==============================] - 2s 202us/step - loss: 0.4005 - acc: 0.8344\n",
      "Epoch 96/100\n",
      "8000/8000 [==============================] - 2s 201us/step - loss: 0.3998 - acc: 0.8349\n",
      "Epoch 97/100\n",
      "8000/8000 [==============================] - 2s 202us/step - loss: 0.4005 - acc: 0.8351\n",
      "Epoch 98/100\n",
      "8000/8000 [==============================] - 2s 201us/step - loss: 0.3999 - acc: 0.8345\n",
      "Epoch 99/100\n",
      "8000/8000 [==============================] - 2s 201us/step - loss: 0.3994 - acc: 0.8341\n",
      "Epoch 100/100\n",
      "8000/8000 [==============================] - 2s 201us/step - loss: 0.4010 - acc: 0.8340\n"
     ]
    },
    {
     "data": {
      "text/plain": [
       "<keras.callbacks.History at 0x1c21063748>"
      ]
     },
     "execution_count": 40,
     "metadata": {},
     "output_type": "execute_result"
    }
   ],
   "source": [
    "classifier.fit(X_train, y_train, batch_size=10, epochs=100)"
   ]
  },
  {
   "cell_type": "markdown",
   "metadata": {
    "_cell_guid": "e4bc3339-634c-4343-9bf3-e5fe86be5b21",
    "_uuid": "05146ba8ae06c97f679d19c7785e34fc301a4146"
   },
   "source": [
    "The output network should converge to an accuracy near 84%\n",
    "## Testing the ANN\n",
    "### Predicting the Test set results\n",
    "\n",
    "This shows the probability of a customer leaving given the testing data. Each row in X_test corresponds to a row in Y_test"
   ]
  },
  {
   "cell_type": "code",
   "execution_count": 41,
   "metadata": {
    "_cell_guid": "b8414c74-b1d9-4171-9f01-6b1b2d642c0e",
    "_uuid": "c6f9748ac1c12e6786615c664e4fae7d34238dd5"
   },
   "outputs": [
    {
     "data": {
      "text/plain": [
       "array([[0.1702105 ],\n",
       "       [0.3839274 ],\n",
       "       [0.18821351],\n",
       "       [0.05871017],\n",
       "       [0.13299334],\n",
       "       [0.8613797 ],\n",
       "       [0.07265257],\n",
       "       [0.08375332]], dtype=float32)"
      ]
     },
     "execution_count": 41,
     "metadata": {},
     "output_type": "execute_result"
    }
   ],
   "source": [
    "y_pred = classifier.predict(X_test)\n",
    "y_pred[:8]"
   ]
  },
  {
   "cell_type": "markdown",
   "metadata": {
    "_cell_guid": "dadcf0b3-ec7d-496a-b9ee-733f74d147a0",
    "_uuid": "d114142f9b8006cd824e5321d973b410cf1f8242"
   },
   "source": [
    "To use the confusion Matrix, we need to convert the probabilities that a customer will leave the bank into the form true or false. So we will use the cutoff value 0.5 to indicate whether they are likely to exit or not."
   ]
  },
  {
   "cell_type": "code",
   "execution_count": 42,
   "metadata": {
    "_uuid": "14f1cbcf3910c6b40420f5516a716d5e68a77918"
   },
   "outputs": [
    {
     "data": {
      "text/plain": [
       "array([[False],\n",
       "       [False],\n",
       "       [False],\n",
       "       [False],\n",
       "       [False],\n",
       "       [ True],\n",
       "       [False],\n",
       "       [False]])"
      ]
     },
     "execution_count": 42,
     "metadata": {},
     "output_type": "execute_result"
    }
   ],
   "source": [
    "y_pred = (y_pred > 0.5)\n",
    "y_pred[:8]"
   ]
  },
  {
   "cell_type": "markdown",
   "metadata": {
    "_cell_guid": "b8881ad3-48e7-431b-a542-94cd2660cfbd",
    "_uuid": "6237093831507136636bade49c4349277ab63c6a"
   },
   "source": [
    "### Making the Confusion Matrix"
   ]
  },
  {
   "cell_type": "code",
   "execution_count": 43,
   "metadata": {
    "_cell_guid": "358df9a9-dade-46b7-a9bc-dafc280a7adc",
    "_uuid": "f436bf213e921eb5b6737fcd7eb1b4224fe34426"
   },
   "outputs": [
    {
     "name": "stdout",
     "output_type": "stream",
     "text": [
      "[[1546   49]\n",
      " [ 266  139]]\n"
     ]
    }
   ],
   "source": [
    "from sklearn.metrics import confusion_matrix\n",
    "cm = confusion_matrix(y_test, y_pred)\n",
    "print(cm)"
   ]
  },
  {
   "cell_type": "markdown",
   "metadata": {
    "_uuid": "56a6b704d580d6cd00a33a2cc22848beb48925ab"
   },
   "source": [
    "### Significance of the confusion matrix value:\n",
    "\n",
    "The output should be close to the table below:\n",
    "\n",
    "||Predicted: No |Predicted: Yes|\n",
    " |------| |------|   |------|  \n",
    " |Actual: No|1546|49|\n",
    "|Actual: Yes|266|139|\n"
   ]
  },
  {
   "cell_type": "markdown",
   "metadata": {
    "_uuid": "c14197fae0ea02eefd837b2bcef7e4aa84a02516"
   },
   "source": [
    "This means that we should have about $(1546 + 139) = 1685$ correct classifications out of our total testing data size of $2000$.\n",
    "This means that our accuracy for this trial was $1685 \\div 2000 = 84.25\\%$, which matches the classifier's prediction"
   ]
  },
  {
   "cell_type": "code",
   "execution_count": 44,
   "metadata": {
    "_uuid": "b56914f16beb2e28a36e6b0d4eea01311f7f8142"
   },
   "outputs": [
    {
     "name": "stdout",
     "output_type": "stream",
     "text": [
      "84.25 % of testing data was classified correctly\n"
     ]
    }
   ],
   "source": [
    "print (((cm[0][0]+cm[1][1])*100)/(cm[0][0]+cm[1][1]+cm[0][1]+cm[1][0]), '% of testing data was classified correctly')"
   ]
  },
  {
   "cell_type": "markdown",
   "metadata": {},
   "source": [
    "## Testing on a random new user"
   ]
  },
  {
   "cell_type": "markdown",
   "metadata": {},
   "source": [
    "using the ANN model to predict if the customer with the following informations will leave the bank: \n",
    "\n",
    "* Geography: France\n",
    "* Credit Score: 600\n",
    "* Gender: Male\n",
    "* Age: 40 years old\n",
    "* Tenure: 3 years\n",
    "* Balance: \\$60000\n",
    "* Number of Products: 2\n",
    "* Does this customer have a credit card ? Yes\n",
    "* Is this customer an Active Member: Yes\n",
    "* Estimated Salary: $50000\n",
    "* So should we say goodbye to that customer ?"
   ]
  },
  {
   "cell_type": "code",
   "execution_count": 79,
   "metadata": {},
   "outputs": [],
   "source": [
    "new_user_x = np.array([[0.0,1, # France\n",
    "              600, # Credit score\n",
    "              0, # Male\n",
    "              40, # years old\n",
    "              3, # tenure\n",
    "              60_000, # balance\n",
    "              2, # Number of products\n",
    "              1, # Credit Card\n",
    "              1, # Active\n",
    "              50_000 # Salary\n",
    "             ]])"
   ]
  },
  {
   "cell_type": "code",
   "execution_count": 80,
   "metadata": {},
   "outputs": [],
   "source": [
    "new_user_x_norm = sc.transform(new_user_x)"
   ]
  },
  {
   "cell_type": "code",
   "execution_count": 81,
   "metadata": {},
   "outputs": [
    {
     "name": "stdout",
     "output_type": "stream",
     "text": [
      "19.046124815940857 % probability that customer will leave\n"
     ]
    }
   ],
   "source": [
    "print(classifier.predict(new_user_x_norm)[0][0]*100,'% probability that customer will leave') "
   ]
  }
 ],
 "metadata": {
  "kernelspec": {
   "display_name": "Python 3",
   "language": "python",
   "name": "python3"
  },
  "language_info": {
   "codemirror_mode": {
    "name": "ipython",
    "version": 3
   },
   "file_extension": ".py",
   "mimetype": "text/x-python",
   "name": "python",
   "nbconvert_exporter": "python",
   "pygments_lexer": "ipython3",
   "version": "3.6.4"
  }
 },
 "nbformat": 4,
 "nbformat_minor": 1
}
