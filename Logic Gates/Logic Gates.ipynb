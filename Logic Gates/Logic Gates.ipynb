{
 "cells": [
  {
   "cell_type": "code",
   "execution_count": 3,
   "metadata": {},
   "outputs": [],
   "source": [
    "import numpy as np"
   ]
  },
  {
   "cell_type": "code",
   "execution_count": 4,
   "metadata": {},
   "outputs": [],
   "source": [
    "def perceptron(weight, bias, x):\n",
    "    model = np.add(np.multiply(x,weight), bias) \n",
    "    # Multiplies the weights to the inputs, then adds the bias. \n",
    "    #The bias can be thought of as the \"Threshold\" the neuron needs to reach to \"fire.\"\n",
    "    print('model: {}'.format(model))\n",
    "    activation_fn = 1/(1+np.exp(-model)) # We will want to use the sigmoid activation function for this.\n",
    "    # Since we are looking at perceptrons as logic gates, we will round the activation function to yes or no (1 or 0),\n",
    "    # But in general we would not want to round numbers\n",
    "    print('Type: {}'.format(activation_fn))\n",
    "    return np.roung(activation_fn)"
   ]
  },
  {
   "cell_type": "code",
   "execution_count": null,
   "metadata": {},
   "outputs": [],
   "source": [
    "def compute(logictype, weightdict, dataset):\n",
    "    weights = np.array([weightdict[logictype][w] for w in weightdict[logictype].keys()[::-1]])\n",
    "    output = np.array([perceptorn(weights, weightdic)])"
   ]
  }
 ],
 "metadata": {
  "kernelspec": {
   "display_name": "Python 3",
   "language": "python",
   "name": "python3"
  },
  "language_info": {
   "codemirror_mode": {
    "name": "ipython",
    "version": 3
   },
   "file_extension": ".py",
   "mimetype": "text/x-python",
   "name": "python",
   "nbconvert_exporter": "python",
   "pygments_lexer": "ipython3",
   "version": "3.6.5"
  }
 },
 "nbformat": 4,
 "nbformat_minor": 2
}
